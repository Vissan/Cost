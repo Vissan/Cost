{
 "cells": [
  {
   "cell_type": "code",
   "execution_count": 2,
   "outputs": [
    {
     "name": "stdout",
     "output_type": "stream",
     "text": [
      "Predicted execution time: 0.000877333333333333 seconds\n"
     ]
    }
   ],
   "source": [
    "from pycparser import c_parser, c_ast\n",
    "import numpy as np\n",
    "from sklearn.ensemble import RandomForestRegressor\n",
    "\n",
    "class FeatureExtractor(c_ast.NodeVisitor):\n",
    "    def __init__(self):\n",
    "        self.n_loops = 0\n",
    "        self.n_conditions = 0\n",
    "        self.n_arithmetic_ops = 0\n",
    "        # Add more features as needed\n",
    "\n",
    "    def visit_For(self, node):\n",
    "        self.n_loops += 1\n",
    "        self.generic_visit(node)\n",
    "\n",
    "    def visit_While(self, node):\n",
    "        self.n_loops += 1\n",
    "        self.generic_visit(node)\n",
    "\n",
    "    def visit_If(self, node):\n",
    "        self.n_conditions += 1\n",
    "        self.generic_visit(node)\n",
    "\n",
    "    def visit_BinaryOp(self, node):\n",
    "        if node.op in ['+', '-', '*', '/']:\n",
    "            self.n_arithmetic_ops += 1\n",
    "        self.generic_visit(node)\n",
    "\n",
    "def extract_features(code):\n",
    "    # Wrap the code snippet in a function\n",
    "    wrapped_code = f\"\"\"\n",
    "    void func() {{\n",
    "        {code}\n",
    "    }}\n",
    "    \"\"\"\n",
    "    parser = c_parser.CParser()\n",
    "    try:\n",
    "        ast = parser.parse(wrapped_code)\n",
    "        extractor = FeatureExtractor()\n",
    "        extractor.visit(ast)\n",
    "        return [extractor.n_loops, extractor.n_conditions, extractor.n_arithmetic_ops]\n",
    "    except:\n",
    "        print(f\"Failed to parse: {code}\")\n",
    "        return [0, 0, 0]  # Return default values if parsing fails\n",
    "\n",
    "# Example code snippets and execution times\n",
    "code_snippets = [\n",
    "    \"for(int i=0; i<100; i++) { a += i; }\",\n",
    "    \"if(x > 0) { y = x * 2; }\",\n",
    "    \"while(j < 50) { j++; }\"\n",
    "]\n",
    "execution_times = [0.001, 0.0005, 0.0008]\n",
    "\n",
    "# Extract features for all snippets\n",
    "X = np.array([extract_features(code) for code in code_snippets])\n",
    "y = np.array(execution_times)\n",
    "\n",
    "# Train a Random Forest model\n",
    "model = RandomForestRegressor()\n",
    "model.fit(X, y)\n",
    "\n",
    "# Predict execution time for a new snippet\n",
    "new_code = \"while(x < 100) { x *= 2; }\"\n",
    "new_features = extract_features(new_code)\n",
    "predicted_time = model.predict([new_features])\n",
    "\n",
    "print(f\"Predicted execution time: {predicted_time[0]} seconds\")"
   ],
   "metadata": {
    "collapsed": false,
    "ExecuteTime": {
     "end_time": "2024-07-27T14:16:33.511480Z",
     "start_time": "2024-07-27T14:16:33.477269Z"
    }
   },
   "id": "d0cbc9e602cac31f"
  },
  {
   "cell_type": "code",
   "execution_count": 4,
   "outputs": [
    {
     "ename": "LibclangError",
     "evalue": "dlopen(C:\\Program Files\\LLVM\\bin\\libclang.dll, 0x0006): tried: 'C:\\Program Files\\LLVM\\bin\\libclang.dll' (no such file), '/System/Volumes/Preboot/Cryptexes/OSC:\\Program Files\\LLVM\\bin\\libclang.dll' (no such file), '/Users/vissan/anaconda3/envs/Cost/lib/python3.11/lib-dynload/../../C:\\Program Files\\LLVM\\bin\\libclang.dll' (no such file), '/Users/vissan/anaconda3/envs/Cost/bin/../lib/C:\\Program Files\\LLVM\\bin\\libclang.dll' (no such file), '/usr/lib/C:\\Program Files\\LLVM\\bin\\libclang.dll' (no such file, not in dyld cache), 'C:\\Program Files\\LLVM\\bin\\libclang.dll' (no such file), '/usr/local/lib/C:\\Program Files\\LLVM\\bin\\libclang.dll' (no such file), '/usr/lib/C:\\Program Files\\LLVM\\bin\\libclang.dll' (no such file, not in dyld cache). To provide a path to libclang use Config.set_library_path() or Config.set_library_file().",
     "output_type": "error",
     "traceback": [
      "\u001B[0;31m---------------------------------------------------------------------------\u001B[0m",
      "\u001B[0;31mOSError\u001B[0m                                   Traceback (most recent call last)",
      "File \u001B[0;32m~/anaconda3/envs/Cost/lib/python3.11/site-packages/clang/cindex.py:3949\u001B[0m, in \u001B[0;36mConfig.get_cindex_library\u001B[0;34m(self)\u001B[0m\n\u001B[1;32m   3948\u001B[0m \u001B[38;5;28;01mtry\u001B[39;00m:\n\u001B[0;32m-> 3949\u001B[0m     library \u001B[38;5;241m=\u001B[39m \u001B[43mcdll\u001B[49m\u001B[38;5;241;43m.\u001B[39;49m\u001B[43mLoadLibrary\u001B[49m\u001B[43m(\u001B[49m\u001B[38;5;28;43mself\u001B[39;49m\u001B[38;5;241;43m.\u001B[39;49m\u001B[43mget_filename\u001B[49m\u001B[43m(\u001B[49m\u001B[43m)\u001B[49m\u001B[43m)\u001B[49m\n\u001B[1;32m   3950\u001B[0m \u001B[38;5;28;01mexcept\u001B[39;00m \u001B[38;5;167;01mOSError\u001B[39;00m \u001B[38;5;28;01mas\u001B[39;00m e:\n",
      "File \u001B[0;32m~/anaconda3/envs/Cost/lib/python3.11/ctypes/__init__.py:454\u001B[0m, in \u001B[0;36mLibraryLoader.LoadLibrary\u001B[0;34m(self, name)\u001B[0m\n\u001B[1;32m    453\u001B[0m \u001B[38;5;28;01mdef\u001B[39;00m \u001B[38;5;21mLoadLibrary\u001B[39m(\u001B[38;5;28mself\u001B[39m, name):\n\u001B[0;32m--> 454\u001B[0m     \u001B[38;5;28;01mreturn\u001B[39;00m \u001B[38;5;28;43mself\u001B[39;49m\u001B[38;5;241;43m.\u001B[39;49m\u001B[43m_dlltype\u001B[49m\u001B[43m(\u001B[49m\u001B[43mname\u001B[49m\u001B[43m)\u001B[49m\n",
      "File \u001B[0;32m~/anaconda3/envs/Cost/lib/python3.11/ctypes/__init__.py:376\u001B[0m, in \u001B[0;36mCDLL.__init__\u001B[0;34m(self, name, mode, handle, use_errno, use_last_error, winmode)\u001B[0m\n\u001B[1;32m    375\u001B[0m \u001B[38;5;28;01mif\u001B[39;00m handle \u001B[38;5;129;01mis\u001B[39;00m \u001B[38;5;28;01mNone\u001B[39;00m:\n\u001B[0;32m--> 376\u001B[0m     \u001B[38;5;28mself\u001B[39m\u001B[38;5;241m.\u001B[39m_handle \u001B[38;5;241m=\u001B[39m \u001B[43m_dlopen\u001B[49m\u001B[43m(\u001B[49m\u001B[38;5;28;43mself\u001B[39;49m\u001B[38;5;241;43m.\u001B[39;49m\u001B[43m_name\u001B[49m\u001B[43m,\u001B[49m\u001B[43m \u001B[49m\u001B[43mmode\u001B[49m\u001B[43m)\u001B[49m\n\u001B[1;32m    377\u001B[0m \u001B[38;5;28;01melse\u001B[39;00m:\n",
      "\u001B[0;31mOSError\u001B[0m: dlopen(C:\\Program Files\\LLVM\\bin\\libclang.dll, 0x0006): tried: 'C:\\Program Files\\LLVM\\bin\\libclang.dll' (no such file), '/System/Volumes/Preboot/Cryptexes/OSC:\\Program Files\\LLVM\\bin\\libclang.dll' (no such file), '/Users/vissan/anaconda3/envs/Cost/lib/python3.11/lib-dynload/../../C:\\Program Files\\LLVM\\bin\\libclang.dll' (no such file), '/Users/vissan/anaconda3/envs/Cost/bin/../lib/C:\\Program Files\\LLVM\\bin\\libclang.dll' (no such file), '/usr/lib/C:\\Program Files\\LLVM\\bin\\libclang.dll' (no such file, not in dyld cache), 'C:\\Program Files\\LLVM\\bin\\libclang.dll' (no such file), '/usr/local/lib/C:\\Program Files\\LLVM\\bin\\libclang.dll' (no such file), '/usr/lib/C:\\Program Files\\LLVM\\bin\\libclang.dll' (no such file, not in dyld cache)",
      "\nDuring handling of the above exception, another exception occurred:\n",
      "\u001B[0;31mLibclangError\u001B[0m                             Traceback (most recent call last)",
      "Cell \u001B[0;32mIn[4], line 57\u001B[0m\n\u001B[1;32m     44\u001B[0m \u001B[38;5;66;03m# Example usage\u001B[39;00m\n\u001B[1;32m     45\u001B[0m code \u001B[38;5;241m=\u001B[39m \u001B[38;5;124m\"\"\"\u001B[39m\n\u001B[1;32m     46\u001B[0m \u001B[38;5;124mint main() \u001B[39m\u001B[38;5;124m{\u001B[39m\n\u001B[1;32m     47\u001B[0m \u001B[38;5;124m    int sum = 0;\u001B[39m\n\u001B[0;32m   (...)\u001B[0m\n\u001B[1;32m     54\u001B[0m \u001B[38;5;124m}\u001B[39m\n\u001B[1;32m     55\u001B[0m \u001B[38;5;124m\"\"\"\u001B[39m\n\u001B[0;32m---> 57\u001B[0m features \u001B[38;5;241m=\u001B[39m \u001B[43mget_features\u001B[49m\u001B[43m(\u001B[49m\u001B[43mcode\u001B[49m\u001B[43m)\u001B[49m\n\u001B[1;32m     58\u001B[0m \u001B[38;5;28mprint\u001B[39m(features)\n",
      "Cell \u001B[0;32mIn[4], line 38\u001B[0m, in \u001B[0;36mget_features\u001B[0;34m(code)\u001B[0m\n\u001B[1;32m     36\u001B[0m \u001B[38;5;28;01mdef\u001B[39;00m \u001B[38;5;21mget_features\u001B[39m(code):\n\u001B[1;32m     37\u001B[0m     clang\u001B[38;5;241m.\u001B[39mcindex\u001B[38;5;241m.\u001B[39mConfig\u001B[38;5;241m.\u001B[39mset_library_file(\u001B[38;5;124mr\u001B[39m\u001B[38;5;124m'\u001B[39m\u001B[38;5;124mC:\u001B[39m\u001B[38;5;124m\\\u001B[39m\u001B[38;5;124mProgram Files\u001B[39m\u001B[38;5;124m\\\u001B[39m\u001B[38;5;124mLLVM\u001B[39m\u001B[38;5;124m\\\u001B[39m\u001B[38;5;124mbin\u001B[39m\u001B[38;5;124m\\\u001B[39m\u001B[38;5;124mlibclang.dll\u001B[39m\u001B[38;5;124m'\u001B[39m)\n\u001B[0;32m---> 38\u001B[0m     index \u001B[38;5;241m=\u001B[39m \u001B[43mclang\u001B[49m\u001B[38;5;241;43m.\u001B[39;49m\u001B[43mcindex\u001B[49m\u001B[38;5;241;43m.\u001B[39;49m\u001B[43mIndex\u001B[49m\u001B[38;5;241;43m.\u001B[39;49m\u001B[43mcreate\u001B[49m\u001B[43m(\u001B[49m\u001B[43m)\u001B[49m\n\u001B[1;32m     39\u001B[0m     tu \u001B[38;5;241m=\u001B[39m index\u001B[38;5;241m.\u001B[39mparse(\u001B[38;5;124m'\u001B[39m\u001B[38;5;124mtemp.cpp\u001B[39m\u001B[38;5;124m'\u001B[39m, unsaved_files\u001B[38;5;241m=\u001B[39m[(\u001B[38;5;124m'\u001B[39m\u001B[38;5;124mtemp.cpp\u001B[39m\u001B[38;5;124m'\u001B[39m, code)])\n\u001B[1;32m     40\u001B[0m     extractor \u001B[38;5;241m=\u001B[39m FeatureExtractor()\n",
      "File \u001B[0;32m~/anaconda3/envs/Cost/lib/python3.11/site-packages/clang/cindex.py:2877\u001B[0m, in \u001B[0;36mIndex.create\u001B[0;34m(excludeDecls)\u001B[0m\n\u001B[1;32m   2870\u001B[0m \u001B[38;5;129m@staticmethod\u001B[39m\n\u001B[1;32m   2871\u001B[0m \u001B[38;5;28;01mdef\u001B[39;00m \u001B[38;5;21mcreate\u001B[39m(excludeDecls\u001B[38;5;241m=\u001B[39m\u001B[38;5;28;01mFalse\u001B[39;00m):\n\u001B[1;32m   2872\u001B[0m \u001B[38;5;250m    \u001B[39m\u001B[38;5;124;03m\"\"\"\u001B[39;00m\n\u001B[1;32m   2873\u001B[0m \u001B[38;5;124;03m    Create a new Index.\u001B[39;00m\n\u001B[1;32m   2874\u001B[0m \u001B[38;5;124;03m    Parameters:\u001B[39;00m\n\u001B[1;32m   2875\u001B[0m \u001B[38;5;124;03m    excludeDecls -- Exclude local declarations from translation units.\u001B[39;00m\n\u001B[1;32m   2876\u001B[0m \u001B[38;5;124;03m    \"\"\"\u001B[39;00m\n\u001B[0;32m-> 2877\u001B[0m     \u001B[38;5;28;01mreturn\u001B[39;00m Index(\u001B[43mconf\u001B[49m\u001B[38;5;241;43m.\u001B[39;49m\u001B[43mlib\u001B[49m\u001B[38;5;241m.\u001B[39mclang_createIndex(excludeDecls, \u001B[38;5;241m0\u001B[39m))\n",
      "File \u001B[0;32m~/anaconda3/envs/Cost/lib/python3.11/site-packages/clang/cindex.py:224\u001B[0m, in \u001B[0;36mCachedProperty.__get__\u001B[0;34m(self, instance, instance_type)\u001B[0m\n\u001B[1;32m    221\u001B[0m \u001B[38;5;28;01mif\u001B[39;00m instance \u001B[38;5;129;01mis\u001B[39;00m \u001B[38;5;28;01mNone\u001B[39;00m:\n\u001B[1;32m    222\u001B[0m     \u001B[38;5;28;01mreturn\u001B[39;00m \u001B[38;5;28mself\u001B[39m\n\u001B[0;32m--> 224\u001B[0m value \u001B[38;5;241m=\u001B[39m \u001B[38;5;28;43mself\u001B[39;49m\u001B[38;5;241;43m.\u001B[39;49m\u001B[43mwrapped\u001B[49m\u001B[43m(\u001B[49m\u001B[43minstance\u001B[49m\u001B[43m)\u001B[49m\n\u001B[1;32m    225\u001B[0m \u001B[38;5;28msetattr\u001B[39m(instance, \u001B[38;5;28mself\u001B[39m\u001B[38;5;241m.\u001B[39mwrapped\u001B[38;5;241m.\u001B[39m\u001B[38;5;18m__name__\u001B[39m, value)\n\u001B[1;32m    227\u001B[0m \u001B[38;5;28;01mreturn\u001B[39;00m value\n",
      "File \u001B[0;32m~/anaconda3/envs/Cost/lib/python3.11/site-packages/clang/cindex.py:3922\u001B[0m, in \u001B[0;36mConfig.lib\u001B[0;34m(self)\u001B[0m\n\u001B[1;32m   3920\u001B[0m \u001B[38;5;129m@CachedProperty\u001B[39m\n\u001B[1;32m   3921\u001B[0m \u001B[38;5;28;01mdef\u001B[39;00m \u001B[38;5;21mlib\u001B[39m(\u001B[38;5;28mself\u001B[39m):\n\u001B[0;32m-> 3922\u001B[0m     lib \u001B[38;5;241m=\u001B[39m \u001B[38;5;28;43mself\u001B[39;49m\u001B[38;5;241;43m.\u001B[39;49m\u001B[43mget_cindex_library\u001B[49m\u001B[43m(\u001B[49m\u001B[43m)\u001B[49m\n\u001B[1;32m   3923\u001B[0m     register_functions(lib, \u001B[38;5;129;01mnot\u001B[39;00m Config\u001B[38;5;241m.\u001B[39mcompatibility_check)\n\u001B[1;32m   3924\u001B[0m     Config\u001B[38;5;241m.\u001B[39mloaded \u001B[38;5;241m=\u001B[39m \u001B[38;5;28;01mTrue\u001B[39;00m\n",
      "File \u001B[0;32m~/anaconda3/envs/Cost/lib/python3.11/site-packages/clang/cindex.py:3956\u001B[0m, in \u001B[0;36mConfig.get_cindex_library\u001B[0;34m(self)\u001B[0m\n\u001B[1;32m   3950\u001B[0m \u001B[38;5;28;01mexcept\u001B[39;00m \u001B[38;5;167;01mOSError\u001B[39;00m \u001B[38;5;28;01mas\u001B[39;00m e:\n\u001B[1;32m   3951\u001B[0m     msg \u001B[38;5;241m=\u001B[39m (\n\u001B[1;32m   3952\u001B[0m         \u001B[38;5;28mstr\u001B[39m(e) \u001B[38;5;241m+\u001B[39m \u001B[38;5;124m\"\u001B[39m\u001B[38;5;124m. To provide a path to libclang use \u001B[39m\u001B[38;5;124m\"\u001B[39m\n\u001B[1;32m   3953\u001B[0m         \u001B[38;5;124m\"\u001B[39m\u001B[38;5;124mConfig.set_library_path() or \u001B[39m\u001B[38;5;124m\"\u001B[39m\n\u001B[1;32m   3954\u001B[0m         \u001B[38;5;124m\"\u001B[39m\u001B[38;5;124mConfig.set_library_file().\u001B[39m\u001B[38;5;124m\"\u001B[39m\n\u001B[1;32m   3955\u001B[0m     )\n\u001B[0;32m-> 3956\u001B[0m     \u001B[38;5;28;01mraise\u001B[39;00m LibclangError(msg)\n\u001B[1;32m   3958\u001B[0m \u001B[38;5;28;01mreturn\u001B[39;00m library\n",
      "\u001B[0;31mLibclangError\u001B[0m: dlopen(C:\\Program Files\\LLVM\\bin\\libclang.dll, 0x0006): tried: 'C:\\Program Files\\LLVM\\bin\\libclang.dll' (no such file), '/System/Volumes/Preboot/Cryptexes/OSC:\\Program Files\\LLVM\\bin\\libclang.dll' (no such file), '/Users/vissan/anaconda3/envs/Cost/lib/python3.11/lib-dynload/../../C:\\Program Files\\LLVM\\bin\\libclang.dll' (no such file), '/Users/vissan/anaconda3/envs/Cost/bin/../lib/C:\\Program Files\\LLVM\\bin\\libclang.dll' (no such file), '/usr/lib/C:\\Program Files\\LLVM\\bin\\libclang.dll' (no such file, not in dyld cache), 'C:\\Program Files\\LLVM\\bin\\libclang.dll' (no such file), '/usr/local/lib/C:\\Program Files\\LLVM\\bin\\libclang.dll' (no such file), '/usr/lib/C:\\Program Files\\LLVM\\bin\\libclang.dll' (no such file, not in dyld cache). To provide a path to libclang use Config.set_library_path() or Config.set_library_file()."
     ]
    }
   ],
   "source": [
    "import clang.cindex\n",
    "\n",
    "class FeatureExtractor:\n",
    "    def __init__(self):\n",
    "        self.features = {\n",
    "            'if_statements': 0,\n",
    "            'for_loops': 0,\n",
    "            'while_loops': 0,\n",
    "            'function_calls': 0,\n",
    "            'variable_declarations': 0,\n",
    "            'arithmetic_ops': 0,\n",
    "            # Add more features here\n",
    "        }\n",
    "\n",
    "    def extract_features(self, node):\n",
    "        if node.kind == clang.cindex.CursorKind.IF_STMT:\n",
    "            self.features['if_statements'] += 1\n",
    "        elif node.kind == clang.cindex.CursorKind.FOR_STMT:\n",
    "            self.features['for_loops'] += 1\n",
    "        elif node.kind == clang.cindex.CursorKind.WHILE_STMT:\n",
    "            self.features['while_loops'] += 1\n",
    "        elif node.kind == clang.cindex.CursorKind.CALL_EXPR:\n",
    "            self.features['function_calls'] += 1\n",
    "        elif node.kind == clang.cindex.CursorKind.VAR_DECL:\n",
    "            self.features['variable_declarations'] += 1\n",
    "        elif node.kind == clang.cindex.CursorKind.BINARY_OPERATOR:\n",
    "            if node.binary_operator in [clang.cindex.BinaryOperator.Add, \n",
    "                                        clang.cindex.BinaryOperator.Subtract,\n",
    "                                        clang.cindex.BinaryOperator.Multiply,\n",
    "                                        clang.cindex.BinaryOperator.Divide]:\n",
    "                self.features['arithmetic_ops'] += 1\n",
    "\n",
    "        for child in node.get_children():\n",
    "            self.extract_features(child)\n",
    "\n",
    "def get_features(code):\n",
    "    clang.cindex.Config.set_library_file(r'C:\\Program Files\\LLVM\\bin\\libclang.dll')\n",
    "    index = clang.cindex.Index.create()\n",
    "    tu = index.parse('temp.cpp', unsaved_files=[('temp.cpp', code)])\n",
    "    extractor = FeatureExtractor()\n",
    "    extractor.extract_features(tu.cursor)\n",
    "    return extractor.features\n",
    "\n",
    "# Example usage\n",
    "code = \"\"\"\n",
    "int main() {\n",
    "    int sum = 0;\n",
    "    for (int i = 0; i < 100; i++) {\n",
    "        if (i % 2 == 0) {\n",
    "            sum += i;\n",
    "        }\n",
    "    }\n",
    "    return sum;\n",
    "}\n",
    "\"\"\"\n",
    "\n",
    "features = get_features(code)\n",
    "print(features)"
   ],
   "metadata": {
    "collapsed": false,
    "ExecuteTime": {
     "end_time": "2024-07-27T14:21:35.159260Z",
     "start_time": "2024-07-27T14:21:35.117314Z"
    }
   },
   "id": "d69c0651261356e8"
  },
  {
   "cell_type": "code",
   "execution_count": null,
   "outputs": [],
   "source": [],
   "metadata": {
    "collapsed": false
   },
   "id": "70ce02920fc1d519"
  }
 ],
 "metadata": {
  "kernelspec": {
   "display_name": "Python 3",
   "language": "python",
   "name": "python3"
  },
  "language_info": {
   "codemirror_mode": {
    "name": "ipython",
    "version": 2
   },
   "file_extension": ".py",
   "mimetype": "text/x-python",
   "name": "python",
   "nbconvert_exporter": "python",
   "pygments_lexer": "ipython2",
   "version": "2.7.6"
  }
 },
 "nbformat": 4,
 "nbformat_minor": 5
}
