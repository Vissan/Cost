{
 "cells": [
  {
   "cell_type": "code",
   "execution_count": 12,
   "id": "initial_id",
   "metadata": {
    "collapsed": true,
    "ExecuteTime": {
     "end_time": "2024-08-13T01:49:25.101380Z",
     "start_time": "2024-08-13T01:49:25.088450Z"
    }
   },
   "outputs": [
    {
     "data": {
      "text/plain": "((140, 15), (35, 15), (140,), (35,))"
     },
     "execution_count": 12,
     "metadata": {},
     "output_type": "execute_result"
    }
   ],
   "source": [
    "import numpy as np\n",
    "import pandas as pd\n",
    "from sklearn.preprocessing import StandardScaler\n",
    "from sklearn.model_selection import train_test_split\n",
    "from sklearn.ensemble import RandomForestRegressor\n",
    "from sklearn.metrics import mean_squared_error, r2_score\n",
    "\n",
    "# Load the data\n",
    "df = pd.read_csv('merged_results.csv')\n",
    "\n",
    "# Drop the Filename column\n",
    "df = df.drop(columns=['Filename'])\n",
    "\n",
    "# Split the data into features and target\n",
    "features = ['Ave_mac', 'eTime_macos', 'eTime_windows10', 'ReturnStmt', 'FieldDecl',\n",
    "       'Class Defs', 'StructDecl', 'Static_Cast<>', 'FloatDecl',\n",
    "       'MemberRefExpr', 'Max Depth', 'Ave_win', 'Med_win', 'BoolLiteral',\n",
    "       'letdata']\n",
    "X = df[features]\n",
    "y = df['Med_mac']\n",
    "\n",
    "# Remove outliers (e.g., data points that are more than 3 standard deviations from the mean)\n",
    "y_mean = np.mean(y)\n",
    "y_std = np.std(y)\n",
    "outliers = (y > y_mean + 3 * y_std) | (y < y_mean - 3 * y_std)\n",
    "\n",
    "# Filter out the outliers\n",
    "X = X[~outliers]\n",
    "y = y[~outliers]\n",
    "\n",
    "# Split the data into training and testing sets\n",
    "X_train, X_test, y_train, y_test = train_test_split(X, y, test_size=0.2, random_state=42)\n",
    "\n",
    "# Standardize the features (mean=0, variance=1)\n",
    "scaler = StandardScaler()\n",
    "X_train = scaler.fit_transform(X_train)\n",
    "X_test = scaler.transform(X_test)\n",
    "\n",
    "X_train.shape, X_test.shape, y_train.shape, y_test.shape"
   ]
  },
  {
   "cell_type": "code",
   "execution_count": 13,
   "outputs": [
    {
     "name": "stderr",
     "output_type": "stream",
     "text": [
      "/Users/vissan/anaconda3/envs/Cost/lib/python3.11/site-packages/sklearn/feature_selection/_univariate_selection.py:776: UserWarning: k=20 is greater than n_features=15. All the features will be returned.\n",
      "  warnings.warn(\n"
     ]
    },
    {
     "name": "stdout",
     "output_type": "stream",
     "text": [
      "Fitting 5 folds for each of 108 candidates, totalling 540 fits\n"
     ]
    },
    {
     "data": {
      "text/plain": "({'max_depth': None,\n  'min_samples_leaf': 4,\n  'min_samples_split': 10,\n  'n_estimators': 100},\n 4.805922025458726e-09,\n 0.28108909925272185)"
     },
     "execution_count": 13,
     "metadata": {},
     "output_type": "execute_result"
    }
   ],
   "source": [
    "from sklearn.metrics import mean_squared_error, r2_score\n",
    "from sklearn.ensemble import RandomForestRegressor\n",
    "from sklearn.feature_selection import SelectKBest, f_regression\n",
    "from sklearn.model_selection import GridSearchCV\n",
    "\n",
    "# Feature selection: Select the top 20 features\n",
    "selector = SelectKBest(score_func=f_regression, k=20)\n",
    "X_train_selected = selector.fit_transform(X_train, y_train)\n",
    "X_test_selected = selector.transform(X_test)\n",
    "\n",
    "# Hyperparameter tuning for Random Forest Regressor using Grid Search\n",
    "param_grid = {\n",
    "    'n_estimators': [50, 100, 200],\n",
    "    'max_depth': [None, 10, 20, 30],\n",
    "    'min_samples_split': [2, 5, 10],\n",
    "    'min_samples_leaf': [1, 2, 4]\n",
    "}\n",
    "\n",
    "# Initialize the model\n",
    "rf_model = RandomForestRegressor(random_state=42)\n",
    "\n",
    "# Grid Search\n",
    "grid_search = GridSearchCV(estimator=rf_model, param_grid=param_grid, cv=5, n_jobs=-1, verbose=2)\n",
    "grid_search.fit(X_train_selected, y_train)\n",
    "\n",
    "# Best parameters from grid search\n",
    "best_params = grid_search.best_params_\n",
    "\n",
    "# Train the model with the best parameters\n",
    "best_rf_model = grid_search.best_estimator_\n",
    "\n",
    "# Predict on the test set\n",
    "y_best_rf_pred = best_rf_model.predict(X_test_selected)\n",
    "\n",
    "# Evaluate the model\n",
    "best_rf_mse = mean_squared_error(y_test, y_best_rf_pred)\n",
    "best_rf_r2 = r2_score(y_test, y_best_rf_pred)\n",
    "\n",
    "best_params, best_rf_mse, best_rf_r2\n"
   ],
   "metadata": {
    "collapsed": false,
    "ExecuteTime": {
     "end_time": "2024-08-13T01:49:32.147346Z",
     "start_time": "2024-08-13T01:49:26.820216Z"
    }
   },
   "id": "dcab815f2f80515d"
  },
  {
   "cell_type": "code",
   "execution_count": null,
   "outputs": [],
   "source": [],
   "metadata": {
    "collapsed": false
   },
   "id": "52dc97f84d1eceb7"
  }
 ],
 "metadata": {
  "kernelspec": {
   "display_name": "Python 3",
   "language": "python",
   "name": "python3"
  },
  "language_info": {
   "codemirror_mode": {
    "name": "ipython",
    "version": 2
   },
   "file_extension": ".py",
   "mimetype": "text/x-python",
   "name": "python",
   "nbconvert_exporter": "python",
   "pygments_lexer": "ipython2",
   "version": "2.7.6"
  }
 },
 "nbformat": 4,
 "nbformat_minor": 5
}
