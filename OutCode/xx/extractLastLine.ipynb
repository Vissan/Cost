{
 "cells": [
  {
   "cell_type": "code",
   "execution_count": 5,
   "outputs": [],
   "source": [
    "import os  \n",
    "import csv  \n",
    "  \n",
    "def extract_last_line_data(folder_path, output_csv_path):  \n",
    "    # 创建一个空列表来存储所有提取的数据  \n",
    "    data = []  \n",
    "      \n",
    "    # 遍历指定文件夹中的所有文件  \n",
    "    for filename in os.listdir(folder_path):  \n",
    "        if filename.endswith('.cpp'):  # 确保文件是.cpp文件  \n",
    "            file_path = os.path.join(folder_path, filename)  \n",
    "            try:  \n",
    "                with open(file_path, 'r', encoding='utf-8') as file:  \n",
    "                    # 读取文件的每一行，直到文件末尾  \n",
    "                    lines = file.readlines()  \n",
    "                    if lines:  # 确保文件不为空  \n",
    "                        # 获取最后一行，并去除可能的换行符  \n",
    "                        last_line = lines[-1].strip()  \n",
    "                        # 假设最后一行总是符合你给出的格式（例如：\"3 3 n2 n 100.cpp\"）  \n",
    "                        # 但通常文件名不会出现在这里，所以我们假设这只是一个例子  \n",
    "                        # 如果需要处理真实的最后一行数据，你可能需要调整下面的分割逻辑  \n",
    "                        # 这里我们简单地按空格分割字符串  \n",
    "                        parts = last_line.split()  \n",
    "                        if len(parts) >= 5:  # 确保有足够的部分  \n",
    "                            # 可能需要忽略掉最后的文件名部分（这里我们假设没有文件名）  \n",
    "                            data.append(parts[:5])  # 取前五个部分  \n",
    "            except Exception as e:  \n",
    "                print(f\"Error reading {file_path}: {e}\")  \n",
    "      \n",
    "    # 将数据写入CSV文件  \n",
    "    with open(output_csv_path, 'w', newline='', encoding='utf-8') as csvfile:  \n",
    "        writer = csv.writer(csvfile)  \n",
    "        # 写入表头（如果需要）  \n",
    "        # writer.writerow(['Column1', 'Column2', 'Column3', 'Column4', 'Column5'])  \n",
    "        # 写入数据  \n",
    "        writer.writerows(data)  \n",
    "  \n",
    "# 替换下面的路径为你的文件夹路径和CSV输出路径  \n",
    "folder_path = '/Users/vissan/PycharmProjects/Cost/OutCode/xx'  \n",
    "output_csv_path = '/Users/vissan/PycharmProjects/Cost/OutCode/ReExp/et.csv'  \n",
    "extract_last_line_data(folder_path, output_csv_path)"
   ],
   "metadata": {
    "collapsed": false,
    "ExecuteTime": {
     "end_time": "2024-07-28T07:11:13.551376Z",
     "start_time": "2024-07-28T07:11:13.529451Z"
    }
   },
   "id": "ffef6178fdcfa37e"
  },
  {
   "cell_type": "code",
   "execution_count": null,
   "outputs": [],
   "source": [],
   "metadata": {
    "collapsed": false
   },
   "id": "dbb017fb0cbf0553"
  }
 ],
 "metadata": {
  "kernelspec": {
   "display_name": "Python 3",
   "language": "python",
   "name": "python3"
  },
  "language_info": {
   "codemirror_mode": {
    "name": "ipython",
    "version": 2
   },
   "file_extension": ".py",
   "mimetype": "text/x-python",
   "name": "python",
   "nbconvert_exporter": "python",
   "pygments_lexer": "ipython2",
   "version": "2.7.6"
  }
 },
 "nbformat": 4,
 "nbformat_minor": 5
}
