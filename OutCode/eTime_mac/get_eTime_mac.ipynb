{
 "cells": [
  {
   "cell_type": "code",
   "execution_count": 24,
   "outputs": [
    {
     "name": "stdout",
     "output_type": "stream",
     "text": [
      "finish\n"
     ]
    }
   ],
   "source": [
    "import pandas as pd\n",
    "import os\n",
    "\n",
    "# 文件夹路径\n",
    "folder_path = '/Users/vissan/PycharmProjects/Cost/OutCode/eTime_mac'\n",
    "# 存储每个文件的DataFrame\n",
    "data_frames = []\n",
    "\n",
    "# 读取每个CSV文件并重命名eTime列\n",
    "for i in range(10):\n",
    "    file_name = f'eTime_csv_macos{i}.csv'\n",
    "    file_path = os.path.join(folder_path, file_name)\n",
    "    \n",
    "    # 读取CSV文件\n",
    "    df = pd.read_csv(file_path)\n",
    "    \n",
    "    # 重命名eTime列\n",
    "    df.rename(columns={'eTime': f'eTime_{i}'}, inplace=True)\n",
    "    \n",
    "    if i == 0:\n",
    "        data_frames.append(df)\n",
    "    else:\n",
    "        data_frames.append(df[[f'eTime_{i}']])\n",
    "\n",
    "\n",
    "# 合并所有DataFrame\n",
    "combined_df = pd.concat(data_frames, axis=1)\n",
    "\n",
    "# 创建结果的DataFrame\n",
    "result_df = pd.DataFrame(combined_df)\n",
    "\n",
    "\n",
    "result_df.to_csv('summary.csv')\n",
    "print('finish')"
   ],
   "metadata": {
    "collapsed": false,
    "ExecuteTime": {
     "end_time": "2024-08-07T08:31:42.031675Z",
     "start_time": "2024-08-07T08:31:42.017380Z"
    }
   },
   "id": "57cc0510f9fe7295"
  },
  {
   "cell_type": "code",
   "execution_count": null,
   "outputs": [],
   "source": [],
   "metadata": {
    "collapsed": false
   },
   "id": "fe14d0b247913b9a"
  }
 ],
 "metadata": {
  "kernelspec": {
   "display_name": "Python 3",
   "language": "python",
   "name": "python3"
  },
  "language_info": {
   "codemirror_mode": {
    "name": "ipython",
    "version": 2
   },
   "file_extension": ".py",
   "mimetype": "text/x-python",
   "name": "python",
   "nbconvert_exporter": "python",
   "pygments_lexer": "ipython2",
   "version": "2.7.6"
  }
 },
 "nbformat": 4,
 "nbformat_minor": 5
}
