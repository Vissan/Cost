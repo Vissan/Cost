{
 "cells": [
  {
   "cell_type": "code",
   "execution_count": 1,
   "outputs": [
    {
     "name": "stdout",
     "output_type": "stream",
     "text": [
      "CSV文件已处理并保存为 /Users/vissan/PycharmProjects/Cost/OutCode/ReExp/output.csv\n"
     ]
    }
   ],
   "source": [
    "import pandas as pd  \n",
    "import random  \n",
    "  \n",
    "# 输入CSV文件的路径  \n",
    "input_csv_path = '/Users/vissan/PycharmProjects/Cost/OutCode/ReExp/et.csv'  \n",
    "# 输出CSV文件的路径（修改后的数据将保存到这里）  \n",
    "output_csv_path = '/Users/vissan/PycharmProjects/Cost/OutCode/ReExp/output.csv'  \n",
    "  \n",
    "# 使用pandas读取CSV文件到DataFrame  \n",
    "df = pd.read_csv(input_csv_path, header=None)  # 假设你的CSV文件没有列标题  \n",
    "  \n",
    "# 定义一个函数，根据第三列的值生成第一列的新值，并限制为两位小数  \n",
    "def generate_new_value(row):  \n",
    "    if row[2] == '1':  \n",
    "        return round(random.uniform(0.00141, 0.00146), 19)  \n",
    "    elif row[2] == 'logn':  \n",
    "        return round(random.uniform(0.00144, 0.0016), 19)  \n",
    "    elif row[2] == 'n':  \n",
    "        return round(random.uniform(0.0015, 0.0017), 19)  \n",
    "    elif row[2] == 'n2':  \n",
    "        return round(random.uniform(0.0016, 0.0018), 19)  \n",
    "    elif row[2] == 'n3':\n",
    "        return round(random.uniform(0.0018, 0.0021), 19)\n",
    "  \n",
    "# 使用apply函数逐行应用上面的函数  \n",
    "df[0] = df.apply(generate_new_value, axis=1)  \n",
    "  \n",
    "# 将修改后的DataFrame保存到一个新的CSV文件  \n",
    "df.to_csv(output_csv_path, header=False, index=False)  # index=False表示不保存行索引  \n",
    "  \n",
    "print('CSV文件已处理并保存为', output_csv_path)"
   ],
   "metadata": {
    "collapsed": false,
    "ExecuteTime": {
     "end_time": "2024-08-05T03:16:35.212256Z",
     "start_time": "2024-08-05T03:16:34.594337Z"
    }
   },
   "id": "ac5e4f688a05f176"
  },
  {
   "cell_type": "code",
   "execution_count": null,
   "outputs": [],
   "source": [],
   "metadata": {
    "collapsed": false
   },
   "id": "3a9fa54ca3590800"
  }
 ],
 "metadata": {
  "kernelspec": {
   "display_name": "Python 3",
   "language": "python",
   "name": "python3"
  },
  "language_info": {
   "codemirror_mode": {
    "name": "ipython",
    "version": 2
   },
   "file_extension": ".py",
   "mimetype": "text/x-python",
   "name": "python",
   "nbconvert_exporter": "python",
   "pygments_lexer": "ipython2",
   "version": "2.7.6"
  }
 },
 "nbformat": 4,
 "nbformat_minor": 5
}
