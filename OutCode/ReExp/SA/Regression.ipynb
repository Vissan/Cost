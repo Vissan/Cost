{
 "cells": [
  {
   "cell_type": "code",
   "execution_count": 2,
   "id": "initial_id",
   "metadata": {
    "collapsed": true,
    "ExecuteTime": {
     "end_time": "2024-08-05T03:23:37.279849Z",
     "start_time": "2024-08-05T03:23:36.932328Z"
    }
   },
   "outputs": [
    {
     "name": "stdout",
     "output_type": "stream",
     "text": [
      "Mean Squared Error: 6.317196965652587e-09\n",
      "R-squared: -0.0006961086433021624\n"
     ]
    }
   ],
   "source": [
    "import pandas as pd\n",
    "from sklearn.model_selection import train_test_split\n",
    "from sklearn.preprocessing import LabelEncoder, StandardScaler\n",
    "from sklearn.metrics import mean_squared_error, r2_score\n",
    "from sklearn.ensemble import StackingRegressor\n",
    "from sklearn.linear_model import RidgeCV\n",
    "from sklearn.svm import SVR\n",
    "from xgboost import XGBRegressor\n",
    "from sklearn.ensemble import RandomForestRegressor\n",
    "\n",
    "# 读取数据\n",
    "data = pd.read_csv('merged_results.csv')\n",
    "# data.drop(columns=['Filename'])\n",
    "# for col in data.columns:  \n",
    "#     if data[col].dtype == 'object':  \n",
    "#         le = LabelEncoder()  \n",
    "#         data[col] = le.fit_transform(data[col])\n",
    "\n",
    "data = pd.get_dummies(data)\n",
    "\n",
    "# 选择高相关性特征\n",
    "selected_features = [\n",
    "    'O_n2', 'ForLoop', 'UnaryOperator', 'ContinueStmt', 'O_n3', 'O_1',\n",
    "       'ArrayDecl', 'S_1', 'O_logn', 'TernaryOp', 'S_n2', 'closure', 'O_n',\n",
    "       'FieldDecl', 'StringLiteral'\n",
    "]\n",
    "\n",
    "# 定义特征和目标变量\n",
    "# X = data.drop(columns=['Time'])\n",
    "X = data[selected_features]\n",
    "y = data['Time']\n",
    "\n",
    "# 标准化特征值\n",
    "scaler = StandardScaler()\n",
    "X = scaler.fit_transform(X)\n",
    "\n",
    "# 分割数据为训练集和测试集\n",
    "X_train, X_test, y_train, y_test = train_test_split(X, y, test_size=0.2, random_state=42)\n",
    "\n",
    "# 定义基学习器\n",
    "base_learners = [\n",
    "    ('xgb', XGBRegressor(n_estimators=100, learning_rate=0.1, max_depth=5, random_state=42)),\n",
    "    ('rf', RandomForestRegressor(n_estimators=100, random_state=42)),\n",
    "    ('svr', SVR(kernel='rbf', C=1, gamma=0.1))\n",
    "]\n",
    "\n",
    "# 定义堆叠回归模型\n",
    "stacking_model = StackingRegressor(estimators=base_learners, final_estimator=RidgeCV())\n",
    "\n",
    "# 训练模型\n",
    "stacking_model.fit(X_train, y_train)\n",
    "\n",
    "# 预测和评估模型\n",
    "y_pred = stacking_model.predict(X_test)\n",
    "mse = mean_squared_error(y_test, y_pred)\n",
    "r2 = r2_score(y_test, y_pred)\n",
    "print(f'Mean Squared Error: {mse}')\n",
    "print(f'R-squared: {r2}')\n"
   ]
  },
  {
   "cell_type": "code",
   "execution_count": null,
   "outputs": [],
   "source": [],
   "metadata": {
    "collapsed": false
   },
   "id": "6ff1e67bade0246"
  }
 ],
 "metadata": {
  "kernelspec": {
   "display_name": "Python 3",
   "language": "python",
   "name": "python3"
  },
  "language_info": {
   "codemirror_mode": {
    "name": "ipython",
    "version": 2
   },
   "file_extension": ".py",
   "mimetype": "text/x-python",
   "name": "python",
   "nbconvert_exporter": "python",
   "pygments_lexer": "ipython2",
   "version": "2.7.6"
  }
 },
 "nbformat": 4,
 "nbformat_minor": 5
}
