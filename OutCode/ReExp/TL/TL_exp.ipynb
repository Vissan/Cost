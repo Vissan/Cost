{
 "cells": [
  {
   "cell_type": "code",
   "execution_count": 3,
   "outputs": [
    {
     "name": "stdout",
     "output_type": "stream",
     "text": [
      "Epoch 1/100\n",
      "\u001B[1m4/4\u001B[0m \u001B[32m━━━━━━━━━━━━━━━━━━━━\u001B[0m\u001B[37m\u001B[0m \u001B[1m1s\u001B[0m 24ms/step - loss: 0.0847 - r2_score: -10148717.0000 - val_loss: 0.0438 - val_r2_score: -6939397.0000\n",
      "Epoch 2/100\n",
      "\u001B[1m4/4\u001B[0m \u001B[32m━━━━━━━━━━━━━━━━━━━━\u001B[0m\u001B[37m\u001B[0m \u001B[1m0s\u001B[0m 4ms/step - loss: 0.0367 - r2_score: -4624951.0000 - val_loss: 0.0272 - val_r2_score: -4303560.0000\n",
      "Epoch 3/100\n",
      "\u001B[1m4/4\u001B[0m \u001B[32m━━━━━━━━━━━━━━━━━━━━\u001B[0m\u001B[37m\u001B[0m \u001B[1m0s\u001B[0m 4ms/step - loss: 0.0147 - r2_score: -1763668.1250 - val_loss: 0.0163 - val_r2_score: -2575472.5000\n",
      "Epoch 4/100\n",
      "\u001B[1m4/4\u001B[0m \u001B[32m━━━━━━━━━━━━━━━━━━━━\u001B[0m\u001B[37m\u001B[0m \u001B[1m0s\u001B[0m 4ms/step - loss: 0.0118 - r2_score: -1557710.8750 - val_loss: 0.0107 - val_r2_score: -1691033.8750\n",
      "Epoch 5/100\n",
      "\u001B[1m4/4\u001B[0m \u001B[32m━━━━━━━━━━━━━━━━━━━━\u001B[0m\u001B[37m\u001B[0m \u001B[1m0s\u001B[0m 4ms/step - loss: 0.0127 - r2_score: -1441926.0000 - val_loss: 0.0078 - val_r2_score: -1239532.1250\n",
      "Epoch 6/100\n",
      "\u001B[1m4/4\u001B[0m \u001B[32m━━━━━━━━━━━━━━━━━━━━\u001B[0m\u001B[37m\u001B[0m \u001B[1m0s\u001B[0m 4ms/step - loss: 0.0096 - r2_score: -1118365.7500 - val_loss: 0.0070 - val_r2_score: -1115562.6250\n",
      "Epoch 7/100\n",
      "\u001B[1m4/4\u001B[0m \u001B[32m━━━━━━━━━━━━━━━━━━━━\u001B[0m\u001B[37m\u001B[0m \u001B[1m0s\u001B[0m 4ms/step - loss: 0.0067 - r2_score: -894383.3750 - val_loss: 0.0062 - val_r2_score: -983602.8125\n",
      "Epoch 8/100\n",
      "\u001B[1m4/4\u001B[0m \u001B[32m━━━━━━━━━━━━━━━━━━━━\u001B[0m\u001B[37m\u001B[0m \u001B[1m0s\u001B[0m 5ms/step - loss: 0.0050 - r2_score: -676487.9375 - val_loss: 0.0060 - val_r2_score: -943025.1875\n",
      "Epoch 9/100\n",
      "\u001B[1m4/4\u001B[0m \u001B[32m━━━━━━━━━━━━━━━━━━━━\u001B[0m\u001B[37m\u001B[0m \u001B[1m0s\u001B[0m 5ms/step - loss: 0.0038 - r2_score: -500875.7188 - val_loss: 0.0053 - val_r2_score: -839925.0000\n",
      "Epoch 10/100\n",
      "\u001B[1m4/4\u001B[0m \u001B[32m━━━━━━━━━━━━━━━━━━━━\u001B[0m\u001B[37m\u001B[0m \u001B[1m0s\u001B[0m 4ms/step - loss: 0.0038 - r2_score: -492610.5312 - val_loss: 0.0049 - val_r2_score: -781386.8125\n",
      "Epoch 11/100\n",
      "\u001B[1m4/4\u001B[0m \u001B[32m━━━━━━━━━━━━━━━━━━━━\u001B[0m\u001B[37m\u001B[0m \u001B[1m0s\u001B[0m 4ms/step - loss: 0.0030 - r2_score: -380512.1562 - val_loss: 0.0046 - val_r2_score: -726175.5000\n",
      "Epoch 12/100\n",
      "\u001B[1m4/4\u001B[0m \u001B[32m━━━━━━━━━━━━━━━━━━━━\u001B[0m\u001B[37m\u001B[0m \u001B[1m0s\u001B[0m 4ms/step - loss: 0.0024 - r2_score: -259820.8750 - val_loss: 0.0040 - val_r2_score: -640530.6250\n",
      "Epoch 13/100\n",
      "\u001B[1m4/4\u001B[0m \u001B[32m━━━━━━━━━━━━━━━━━━━━\u001B[0m\u001B[37m\u001B[0m \u001B[1m0s\u001B[0m 4ms/step - loss: 0.0019 - r2_score: -224381.0781 - val_loss: 0.0036 - val_r2_score: -568368.3125\n",
      "Epoch 14/100\n",
      "\u001B[1m4/4\u001B[0m \u001B[32m━━━━━━━━━━━━━━━━━━━━\u001B[0m\u001B[37m\u001B[0m \u001B[1m0s\u001B[0m 4ms/step - loss: 0.0018 - r2_score: -208366.8906 - val_loss: 0.0035 - val_r2_score: -555565.4375\n",
      "Epoch 15/100\n",
      "\u001B[1m4/4\u001B[0m \u001B[32m━━━━━━━━━━━━━━━━━━━━\u001B[0m\u001B[37m\u001B[0m \u001B[1m0s\u001B[0m 4ms/step - loss: 0.0014 - r2_score: -159028.1094 - val_loss: 0.0033 - val_r2_score: -526530.5000\n",
      "Epoch 16/100\n",
      "\u001B[1m4/4\u001B[0m \u001B[32m━━━━━━━━━━━━━━━━━━━━\u001B[0m\u001B[37m\u001B[0m \u001B[1m0s\u001B[0m 4ms/step - loss: 0.0014 - r2_score: -175901.2500 - val_loss: 0.0031 - val_r2_score: -483498.9375\n",
      "Epoch 17/100\n",
      "\u001B[1m4/4\u001B[0m \u001B[32m━━━━━━━━━━━━━━━━━━━━\u001B[0m\u001B[37m\u001B[0m \u001B[1m0s\u001B[0m 4ms/step - loss: 0.0012 - r2_score: -143287.5312 - val_loss: 0.0030 - val_r2_score: -474332.2812\n",
      "Epoch 18/100\n",
      "\u001B[1m4/4\u001B[0m \u001B[32m━━━━━━━━━━━━━━━━━━━━\u001B[0m\u001B[37m\u001B[0m \u001B[1m0s\u001B[0m 5ms/step - loss: 0.0011 - r2_score: -133468.6250 - val_loss: 0.0030 - val_r2_score: -481416.0312\n",
      "Epoch 19/100\n",
      "\u001B[1m4/4\u001B[0m \u001B[32m━━━━━━━━━━━━━━━━━━━━\u001B[0m\u001B[37m\u001B[0m \u001B[1m0s\u001B[0m 4ms/step - loss: 9.6423e-04 - r2_score: -110285.4609 - val_loss: 0.0029 - val_r2_score: -464128.4062\n",
      "Epoch 20/100\n",
      "\u001B[1m4/4\u001B[0m \u001B[32m━━━━━━━━━━━━━━━━━━━━\u001B[0m\u001B[37m\u001B[0m \u001B[1m0s\u001B[0m 4ms/step - loss: 8.5954e-04 - r2_score: -115121.3125 - val_loss: 0.0028 - val_r2_score: -449263.1250\n",
      "Epoch 21/100\n",
      "\u001B[1m4/4\u001B[0m \u001B[32m━━━━━━━━━━━━━━━━━━━━\u001B[0m\u001B[37m\u001B[0m \u001B[1m0s\u001B[0m 4ms/step - loss: 8.2574e-04 - r2_score: -101640.9219 - val_loss: 0.0027 - val_r2_score: -434253.2500\n",
      "Epoch 22/100\n",
      "\u001B[1m4/4\u001B[0m \u001B[32m━━━━━━━━━━━━━━━━━━━━\u001B[0m\u001B[37m\u001B[0m \u001B[1m0s\u001B[0m 4ms/step - loss: 6.8657e-04 - r2_score: -84080.2188 - val_loss: 0.0027 - val_r2_score: -429560.6250\n",
      "Epoch 23/100\n",
      "\u001B[1m4/4\u001B[0m \u001B[32m━━━━━━━━━━━━━━━━━━━━\u001B[0m\u001B[37m\u001B[0m \u001B[1m0s\u001B[0m 4ms/step - loss: 6.5746e-04 - r2_score: -75090.9531 - val_loss: 0.0027 - val_r2_score: -430633.1250\n",
      "Epoch 24/100\n",
      "\u001B[1m4/4\u001B[0m \u001B[32m━━━━━━━━━━━━━━━━━━━━\u001B[0m\u001B[37m\u001B[0m \u001B[1m0s\u001B[0m 4ms/step - loss: 6.2680e-04 - r2_score: -74370.7344 - val_loss: 0.0027 - val_r2_score: -422361.0938\n",
      "Epoch 25/100\n",
      "\u001B[1m4/4\u001B[0m \u001B[32m━━━━━━━━━━━━━━━━━━━━\u001B[0m\u001B[37m\u001B[0m \u001B[1m0s\u001B[0m 5ms/step - loss: 5.6048e-04 - r2_score: -63461.4297 - val_loss: 0.0026 - val_r2_score: -411966.8125\n",
      "Epoch 26/100\n",
      "\u001B[1m4/4\u001B[0m \u001B[32m━━━━━━━━━━━━━━━━━━━━\u001B[0m\u001B[37m\u001B[0m \u001B[1m0s\u001B[0m 4ms/step - loss: 5.1220e-04 - r2_score: -62674.2656 - val_loss: 0.0026 - val_r2_score: -406870.9062\n",
      "Epoch 27/100\n",
      "\u001B[1m4/4\u001B[0m \u001B[32m━━━━━━━━━━━━━━━━━━━━\u001B[0m\u001B[37m\u001B[0m \u001B[1m0s\u001B[0m 4ms/step - loss: 4.8104e-04 - r2_score: -61806.3906 - val_loss: 0.0027 - val_r2_score: -422332.1250\n",
      "Epoch 28/100\n",
      "\u001B[1m4/4\u001B[0m \u001B[32m━━━━━━━━━━━━━━━━━━━━\u001B[0m\u001B[37m\u001B[0m \u001B[1m0s\u001B[0m 4ms/step - loss: 4.4380e-04 - r2_score: -50404.6406 - val_loss: 0.0025 - val_r2_score: -401242.9375\n",
      "Epoch 29/100\n",
      "\u001B[1m4/4\u001B[0m \u001B[32m━━━━━━━━━━━━━━━━━━━━\u001B[0m\u001B[37m\u001B[0m \u001B[1m0s\u001B[0m 4ms/step - loss: 3.3116e-04 - r2_score: -40347.0469 - val_loss: 0.0025 - val_r2_score: -395201.0938\n",
      "Epoch 30/100\n",
      "\u001B[1m4/4\u001B[0m \u001B[32m━━━━━━━━━━━━━━━━━━━━\u001B[0m\u001B[37m\u001B[0m \u001B[1m0s\u001B[0m 5ms/step - loss: 3.2631e-04 - r2_score: -41905.4492 - val_loss: 0.0026 - val_r2_score: -408073.3438\n",
      "Epoch 31/100\n",
      "\u001B[1m4/4\u001B[0m \u001B[32m━━━━━━━━━━━━━━━━━━━━\u001B[0m\u001B[37m\u001B[0m \u001B[1m0s\u001B[0m 4ms/step - loss: 3.7887e-04 - r2_score: -47589.4805 - val_loss: 0.0026 - val_r2_score: -406180.5000\n",
      "Epoch 32/100\n",
      "\u001B[1m4/4\u001B[0m \u001B[32m━━━━━━━━━━━━━━━━━━━━\u001B[0m\u001B[37m\u001B[0m \u001B[1m0s\u001B[0m 4ms/step - loss: 3.2211e-04 - r2_score: -39161.1289 - val_loss: 0.0025 - val_r2_score: -390452.6562\n",
      "Epoch 33/100\n",
      "\u001B[1m4/4\u001B[0m \u001B[32m━━━━━━━━━━━━━━━━━━━━\u001B[0m\u001B[37m\u001B[0m \u001B[1m0s\u001B[0m 4ms/step - loss: 2.5835e-04 - r2_score: -30824.4863 - val_loss: 0.0025 - val_r2_score: -390539.2500\n",
      "Epoch 34/100\n",
      "\u001B[1m4/4\u001B[0m \u001B[32m━━━━━━━━━━━━━━━━━━━━\u001B[0m\u001B[37m\u001B[0m \u001B[1m0s\u001B[0m 4ms/step - loss: 3.0402e-04 - r2_score: -39987.3164 - val_loss: 0.0025 - val_r2_score: -398707.9062\n",
      "Epoch 35/100\n",
      "\u001B[1m4/4\u001B[0m \u001B[32m━━━━━━━━━━━━━━━━━━━━\u001B[0m\u001B[37m\u001B[0m \u001B[1m0s\u001B[0m 4ms/step - loss: 2.2868e-04 - r2_score: -27823.5645 - val_loss: 0.0025 - val_r2_score: -398871.7500\n",
      "Epoch 36/100\n",
      "\u001B[1m4/4\u001B[0m \u001B[32m━━━━━━━━━━━━━━━━━━━━\u001B[0m\u001B[37m\u001B[0m \u001B[1m0s\u001B[0m 4ms/step - loss: 2.2139e-04 - r2_score: -28597.1680 - val_loss: 0.0024 - val_r2_score: -387763.2188\n",
      "Epoch 37/100\n",
      "\u001B[1m4/4\u001B[0m \u001B[32m━━━━━━━━━━━━━━━━━━━━\u001B[0m\u001B[37m\u001B[0m \u001B[1m0s\u001B[0m 4ms/step - loss: 2.0232e-04 - r2_score: -24355.2402 - val_loss: 0.0025 - val_r2_score: -390528.2188\n",
      "Epoch 38/100\n",
      "\u001B[1m4/4\u001B[0m \u001B[32m━━━━━━━━━━━━━━━━━━━━\u001B[0m\u001B[37m\u001B[0m \u001B[1m0s\u001B[0m 4ms/step - loss: 2.2159e-04 - r2_score: -31507.7070 - val_loss: 0.0025 - val_r2_score: -396287.7500\n",
      "Epoch 39/100\n",
      "\u001B[1m4/4\u001B[0m \u001B[32m━━━━━━━━━━━━━━━━━━━━\u001B[0m\u001B[37m\u001B[0m \u001B[1m0s\u001B[0m 4ms/step - loss: 1.6969e-04 - r2_score: -19578.6406 - val_loss: 0.0024 - val_r2_score: -384742.3438\n",
      "Epoch 40/100\n",
      "\u001B[1m4/4\u001B[0m \u001B[32m━━━━━━━━━━━━━━━━━━━━\u001B[0m\u001B[37m\u001B[0m \u001B[1m0s\u001B[0m 4ms/step - loss: 1.9764e-04 - r2_score: -26386.0508 - val_loss: 0.0024 - val_r2_score: -384514.3750\n",
      "Epoch 41/100\n",
      "\u001B[1m4/4\u001B[0m \u001B[32m━━━━━━━━━━━━━━━━━━━━\u001B[0m\u001B[37m\u001B[0m \u001B[1m0s\u001B[0m 4ms/step - loss: 1.7857e-04 - r2_score: -23184.4551 - val_loss: 0.0025 - val_r2_score: -392344.8125\n",
      "Epoch 42/100\n",
      "\u001B[1m4/4\u001B[0m \u001B[32m━━━━━━━━━━━━━━━━━━━━\u001B[0m\u001B[37m\u001B[0m \u001B[1m0s\u001B[0m 4ms/step - loss: 1.6779e-04 - r2_score: -20720.6699 - val_loss: 0.0024 - val_r2_score: -373967.9688\n",
      "Epoch 43/100\n",
      "\u001B[1m4/4\u001B[0m \u001B[32m━━━━━━━━━━━━━━━━━━━━\u001B[0m\u001B[37m\u001B[0m \u001B[1m0s\u001B[0m 4ms/step - loss: 1.5893e-04 - r2_score: -19435.8730 - val_loss: 0.0024 - val_r2_score: -375835.1562\n",
      "Epoch 44/100\n",
      "\u001B[1m4/4\u001B[0m \u001B[32m━━━━━━━━━━━━━━━━━━━━\u001B[0m\u001B[37m\u001B[0m \u001B[1m0s\u001B[0m 4ms/step - loss: 1.3476e-04 - r2_score: -15624.4668 - val_loss: 0.0025 - val_r2_score: -390251.0938\n",
      "Epoch 45/100\n",
      "\u001B[1m4/4\u001B[0m \u001B[32m━━━━━━━━━━━━━━━━━━━━\u001B[0m\u001B[37m\u001B[0m \u001B[1m0s\u001B[0m 4ms/step - loss: 1.4182e-04 - r2_score: -18181.3828 - val_loss: 0.0024 - val_r2_score: -376252.5938\n",
      "Epoch 46/100\n",
      "\u001B[1m4/4\u001B[0m \u001B[32m━━━━━━━━━━━━━━━━━━━━\u001B[0m\u001B[37m\u001B[0m \u001B[1m0s\u001B[0m 5ms/step - loss: 1.3224e-04 - r2_score: -16191.1123 - val_loss: 0.0023 - val_r2_score: -368680.7500\n",
      "Epoch 47/100\n",
      "\u001B[1m4/4\u001B[0m \u001B[32m━━━━━━━━━━━━━━━━━━━━\u001B[0m\u001B[37m\u001B[0m \u001B[1m0s\u001B[0m 4ms/step - loss: 1.0689e-04 - r2_score: -13357.7393 - val_loss: 0.0024 - val_r2_score: -374363.9375\n",
      "Epoch 48/100\n",
      "\u001B[1m4/4\u001B[0m \u001B[32m━━━━━━━━━━━━━━━━━━━━\u001B[0m\u001B[37m\u001B[0m \u001B[1m0s\u001B[0m 4ms/step - loss: 9.3106e-05 - r2_score: -11668.1025 - val_loss: 0.0024 - val_r2_score: -378004.0938\n",
      "Epoch 49/100\n",
      "\u001B[1m4/4\u001B[0m \u001B[32m━━━━━━━━━━━━━━━━━━━━\u001B[0m\u001B[37m\u001B[0m \u001B[1m0s\u001B[0m 4ms/step - loss: 1.0784e-04 - r2_score: -12472.9619 - val_loss: 0.0024 - val_r2_score: -373601.4688\n",
      "Epoch 50/100\n",
      "\u001B[1m4/4\u001B[0m \u001B[32m━━━━━━━━━━━━━━━━━━━━\u001B[0m\u001B[37m\u001B[0m \u001B[1m0s\u001B[0m 4ms/step - loss: 8.7361e-05 - r2_score: -10441.5820 - val_loss: 0.0023 - val_r2_score: -369654.3438\n",
      "Epoch 51/100\n",
      "\u001B[1m4/4\u001B[0m \u001B[32m━━━━━━━━━━━━━━━━━━━━\u001B[0m\u001B[37m\u001B[0m \u001B[1m0s\u001B[0m 4ms/step - loss: 9.7994e-05 - r2_score: -12165.4873 - val_loss: 0.0023 - val_r2_score: -368747.0312\n",
      "Epoch 52/100\n",
      "\u001B[1m4/4\u001B[0m \u001B[32m━━━━━━━━━━━━━━━━━━━━\u001B[0m\u001B[37m\u001B[0m \u001B[1m0s\u001B[0m 4ms/step - loss: 7.7695e-05 - r2_score: -9692.1182 - val_loss: 0.0024 - val_r2_score: -373518.2812\n",
      "Epoch 53/100\n",
      "\u001B[1m4/4\u001B[0m \u001B[32m━━━━━━━━━━━━━━━━━━━━\u001B[0m\u001B[37m\u001B[0m \u001B[1m0s\u001B[0m 4ms/step - loss: 8.3054e-05 - r2_score: -9353.8281 - val_loss: 0.0023 - val_r2_score: -366406.7812\n",
      "Epoch 54/100\n",
      "\u001B[1m4/4\u001B[0m \u001B[32m━━━━━━━━━━━━━━━━━━━━\u001B[0m\u001B[37m\u001B[0m \u001B[1m0s\u001B[0m 4ms/step - loss: 7.9775e-05 - r2_score: -8820.0449 - val_loss: 0.0023 - val_r2_score: -365977.5938\n",
      "Epoch 55/100\n",
      "\u001B[1m4/4\u001B[0m \u001B[32m━━━━━━━━━━━━━━━━━━━━\u001B[0m\u001B[37m\u001B[0m \u001B[1m0s\u001B[0m 4ms/step - loss: 7.0519e-05 - r2_score: -9741.1504 - val_loss: 0.0023 - val_r2_score: -366187.5000\n",
      "Epoch 56/100\n",
      "\u001B[1m4/4\u001B[0m \u001B[32m━━━━━━━━━━━━━━━━━━━━\u001B[0m\u001B[37m\u001B[0m \u001B[1m0s\u001B[0m 4ms/step - loss: 6.5020e-05 - r2_score: -9127.5732 - val_loss: 0.0023 - val_r2_score: -362211.8125\n",
      "Epoch 57/100\n",
      "\u001B[1m4/4\u001B[0m \u001B[32m━━━━━━━━━━━━━━━━━━━━\u001B[0m\u001B[37m\u001B[0m \u001B[1m0s\u001B[0m 4ms/step - loss: 6.0537e-05 - r2_score: -7015.0220 - val_loss: 0.0023 - val_r2_score: -363926.0625\n",
      "Epoch 58/100\n",
      "\u001B[1m4/4\u001B[0m \u001B[32m━━━━━━━━━━━━━━━━━━━━\u001B[0m\u001B[37m\u001B[0m \u001B[1m0s\u001B[0m 4ms/step - loss: 6.0362e-05 - r2_score: -8104.4429 - val_loss: 0.0023 - val_r2_score: -363584.6875\n",
      "Epoch 59/100\n",
      "\u001B[1m4/4\u001B[0m \u001B[32m━━━━━━━━━━━━━━━━━━━━\u001B[0m\u001B[37m\u001B[0m \u001B[1m0s\u001B[0m 4ms/step - loss: 6.7413e-05 - r2_score: -7691.3667 - val_loss: 0.0023 - val_r2_score: -360618.0938\n",
      "Epoch 60/100\n",
      "\u001B[1m4/4\u001B[0m \u001B[32m━━━━━━━━━━━━━━━━━━━━\u001B[0m\u001B[37m\u001B[0m \u001B[1m0s\u001B[0m 4ms/step - loss: 5.1776e-05 - r2_score: -6568.1743 - val_loss: 0.0023 - val_r2_score: -360987.1562\n",
      "Epoch 61/100\n",
      "\u001B[1m4/4\u001B[0m \u001B[32m━━━━━━━━━━━━━━━━━━━━\u001B[0m\u001B[37m\u001B[0m \u001B[1m0s\u001B[0m 4ms/step - loss: 5.1840e-05 - r2_score: -6842.4795 - val_loss: 0.0023 - val_r2_score: -361212.8438\n",
      "Epoch 62/100\n",
      "\u001B[1m4/4\u001B[0m \u001B[32m━━━━━━━━━━━━━━━━━━━━\u001B[0m\u001B[37m\u001B[0m \u001B[1m0s\u001B[0m 5ms/step - loss: 5.4623e-05 - r2_score: -6602.0029 - val_loss: 0.0023 - val_r2_score: -358523.7188\n",
      "Epoch 63/100\n",
      "\u001B[1m4/4\u001B[0m \u001B[32m━━━━━━━━━━━━━━━━━━━━\u001B[0m\u001B[37m\u001B[0m \u001B[1m0s\u001B[0m 4ms/step - loss: 4.7896e-05 - r2_score: -6251.6260 - val_loss: 0.0022 - val_r2_score: -355831.3750\n",
      "Epoch 64/100\n",
      "\u001B[1m4/4\u001B[0m \u001B[32m━━━━━━━━━━━━━━━━━━━━\u001B[0m\u001B[37m\u001B[0m \u001B[1m0s\u001B[0m 4ms/step - loss: 4.6035e-05 - r2_score: -5528.6313 - val_loss: 0.0023 - val_r2_score: -359107.3125\n",
      "Epoch 65/100\n",
      "\u001B[1m4/4\u001B[0m \u001B[32m━━━━━━━━━━━━━━━━━━━━\u001B[0m\u001B[37m\u001B[0m \u001B[1m0s\u001B[0m 4ms/step - loss: 5.2663e-05 - r2_score: -6152.0527 - val_loss: 0.0022 - val_r2_score: -348102.2500\n",
      "Epoch 66/100\n",
      "\u001B[1m4/4\u001B[0m \u001B[32m━━━━━━━━━━━━━━━━━━━━\u001B[0m\u001B[37m\u001B[0m \u001B[1m0s\u001B[0m 4ms/step - loss: 5.8116e-05 - r2_score: -7215.9370 - val_loss: 0.0023 - val_r2_score: -357450.6562\n",
      "Epoch 67/100\n",
      "\u001B[1m4/4\u001B[0m \u001B[32m━━━━━━━━━━━━━━━━━━━━\u001B[0m\u001B[37m\u001B[0m \u001B[1m0s\u001B[0m 4ms/step - loss: 4.9160e-05 - r2_score: -6211.6812 - val_loss: 0.0022 - val_r2_score: -355549.4062\n",
      "Epoch 68/100\n",
      "\u001B[1m4/4\u001B[0m \u001B[32m━━━━━━━━━━━━━━━━━━━━\u001B[0m\u001B[37m\u001B[0m \u001B[1m0s\u001B[0m 4ms/step - loss: 4.8457e-05 - r2_score: -5884.9448 - val_loss: 0.0022 - val_r2_score: -352139.5625\n",
      "Epoch 69/100\n",
      "\u001B[1m4/4\u001B[0m \u001B[32m━━━━━━━━━━━━━━━━━━━━\u001B[0m\u001B[37m\u001B[0m \u001B[1m0s\u001B[0m 4ms/step - loss: 4.6711e-05 - r2_score: -5503.6919 - val_loss: 0.0023 - val_r2_score: -357806.9688\n",
      "Epoch 70/100\n",
      "\u001B[1m4/4\u001B[0m \u001B[32m━━━━━━━━━━━━━━━━━━━━\u001B[0m\u001B[37m\u001B[0m \u001B[1m0s\u001B[0m 4ms/step - loss: 4.1695e-05 - r2_score: -5348.0610 - val_loss: 0.0022 - val_r2_score: -348091.7188\n",
      "Epoch 71/100\n",
      "\u001B[1m4/4\u001B[0m \u001B[32m━━━━━━━━━━━━━━━━━━━━\u001B[0m\u001B[37m\u001B[0m \u001B[1m0s\u001B[0m 4ms/step - loss: 5.4644e-05 - r2_score: -8122.5503 - val_loss: 0.0022 - val_r2_score: -354601.4375\n",
      "Epoch 72/100\n",
      "\u001B[1m4/4\u001B[0m \u001B[32m━━━━━━━━━━━━━━━━━━━━\u001B[0m\u001B[37m\u001B[0m \u001B[1m0s\u001B[0m 4ms/step - loss: 4.5878e-05 - r2_score: -5806.2056 - val_loss: 0.0022 - val_r2_score: -352903.1875\n",
      "Epoch 73/100\n",
      "\u001B[1m4/4\u001B[0m \u001B[32m━━━━━━━━━━━━━━━━━━━━\u001B[0m\u001B[37m\u001B[0m \u001B[1m0s\u001B[0m 4ms/step - loss: 4.2322e-05 - r2_score: -5408.6094 - val_loss: 0.0022 - val_r2_score: -349700.3438\n",
      "Epoch 74/100\n",
      "\u001B[1m4/4\u001B[0m \u001B[32m━━━━━━━━━━━━━━━━━━━━\u001B[0m\u001B[37m\u001B[0m \u001B[1m0s\u001B[0m 4ms/step - loss: 3.7602e-05 - r2_score: -4410.8975 - val_loss: 0.0022 - val_r2_score: -353302.0312\n",
      "Epoch 75/100\n",
      "\u001B[1m4/4\u001B[0m \u001B[32m━━━━━━━━━━━━━━━━━━━━\u001B[0m\u001B[37m\u001B[0m \u001B[1m0s\u001B[0m 4ms/step - loss: 3.3302e-05 - r2_score: -3992.8936 - val_loss: 0.0022 - val_r2_score: -351192.5000\n",
      "Epoch 76/100\n",
      "\u001B[1m4/4\u001B[0m \u001B[32m━━━━━━━━━━━━━━━━━━━━\u001B[0m\u001B[37m\u001B[0m \u001B[1m0s\u001B[0m 4ms/step - loss: 3.5969e-05 - r2_score: -4125.3662 - val_loss: 0.0022 - val_r2_score: -353384.0625\n",
      "Epoch 77/100\n",
      "\u001B[1m4/4\u001B[0m \u001B[32m━━━━━━━━━━━━━━━━━━━━\u001B[0m\u001B[37m\u001B[0m \u001B[1m0s\u001B[0m 4ms/step - loss: 3.7549e-05 - r2_score: -4325.9731 - val_loss: 0.0022 - val_r2_score: -344127.3750\n",
      "Epoch 78/100\n",
      "\u001B[1m4/4\u001B[0m \u001B[32m━━━━━━━━━━━━━━━━━━━━\u001B[0m\u001B[37m\u001B[0m \u001B[1m0s\u001B[0m 4ms/step - loss: 3.8676e-05 - r2_score: -4562.8501 - val_loss: 0.0022 - val_r2_score: -352583.7188\n",
      "Epoch 79/100\n",
      "\u001B[1m4/4\u001B[0m \u001B[32m━━━━━━━━━━━━━━━━━━━━\u001B[0m\u001B[37m\u001B[0m \u001B[1m0s\u001B[0m 4ms/step - loss: 2.7689e-05 - r2_score: -3323.9287 - val_loss: 0.0022 - val_r2_score: -352705.3125\n",
      "Epoch 80/100\n",
      "\u001B[1m4/4\u001B[0m \u001B[32m━━━━━━━━━━━━━━━━━━━━\u001B[0m\u001B[37m\u001B[0m \u001B[1m0s\u001B[0m 4ms/step - loss: 3.3873e-05 - r2_score: -4524.6919 - val_loss: 0.0022 - val_r2_score: -348162.7812\n",
      "Epoch 81/100\n",
      "\u001B[1m4/4\u001B[0m \u001B[32m━━━━━━━━━━━━━━━━━━━━\u001B[0m\u001B[37m\u001B[0m \u001B[1m0s\u001B[0m 4ms/step - loss: 2.6822e-05 - r2_score: -3259.0972 - val_loss: 0.0022 - val_r2_score: -348092.3125\n",
      "Epoch 82/100\n",
      "\u001B[1m4/4\u001B[0m \u001B[32m━━━━━━━━━━━━━━━━━━━━\u001B[0m\u001B[37m\u001B[0m \u001B[1m0s\u001B[0m 4ms/step - loss: 2.8081e-05 - r2_score: -3571.1504 - val_loss: 0.0022 - val_r2_score: -348940.1875\n",
      "Epoch 83/100\n",
      "\u001B[1m4/4\u001B[0m \u001B[32m━━━━━━━━━━━━━━━━━━━━\u001B[0m\u001B[37m\u001B[0m \u001B[1m0s\u001B[0m 4ms/step - loss: 2.9725e-05 - r2_score: -3851.3779 - val_loss: 0.0022 - val_r2_score: -346743.4062\n",
      "Epoch 84/100\n",
      "\u001B[1m4/4\u001B[0m \u001B[32m━━━━━━━━━━━━━━━━━━━━\u001B[0m\u001B[37m\u001B[0m \u001B[1m0s\u001B[0m 4ms/step - loss: 2.8838e-05 - r2_score: -3401.9473 - val_loss: 0.0022 - val_r2_score: -348717.4688\n",
      "Epoch 85/100\n",
      "\u001B[1m4/4\u001B[0m \u001B[32m━━━━━━━━━━━━━━━━━━━━\u001B[0m\u001B[37m\u001B[0m \u001B[1m0s\u001B[0m 4ms/step - loss: 3.0602e-05 - r2_score: -3862.1277 - val_loss: 0.0022 - val_r2_score: -351272.2500\n",
      "Epoch 86/100\n",
      "\u001B[1m4/4\u001B[0m \u001B[32m━━━━━━━━━━━━━━━━━━━━\u001B[0m\u001B[37m\u001B[0m \u001B[1m0s\u001B[0m 4ms/step - loss: 2.7286e-05 - r2_score: -3621.6619 - val_loss: 0.0022 - val_r2_score: -346934.8438\n",
      "Epoch 87/100\n",
      "\u001B[1m4/4\u001B[0m \u001B[32m━━━━━━━━━━━━━━━━━━━━\u001B[0m\u001B[37m\u001B[0m \u001B[1m0s\u001B[0m 4ms/step - loss: 2.1690e-05 - r2_score: -2729.0178 - val_loss: 0.0022 - val_r2_score: -342866.6250\n",
      "Epoch 88/100\n",
      "\u001B[1m4/4\u001B[0m \u001B[32m━━━━━━━━━━━━━━━━━━━━\u001B[0m\u001B[37m\u001B[0m \u001B[1m0s\u001B[0m 4ms/step - loss: 1.9713e-05 - r2_score: -2332.2261 - val_loss: 0.0022 - val_r2_score: -345354.0312\n",
      "Epoch 89/100\n",
      "\u001B[1m4/4\u001B[0m \u001B[32m━━━━━━━━━━━━━━━━━━━━\u001B[0m\u001B[37m\u001B[0m \u001B[1m0s\u001B[0m 4ms/step - loss: 2.0630e-05 - r2_score: -2588.5847 - val_loss: 0.0022 - val_r2_score: -343538.4062\n",
      "Epoch 90/100\n",
      "\u001B[1m4/4\u001B[0m \u001B[32m━━━━━━━━━━━━━━━━━━━━\u001B[0m\u001B[37m\u001B[0m \u001B[1m0s\u001B[0m 4ms/step - loss: 2.1771e-05 - r2_score: -2536.6150 - val_loss: 0.0022 - val_r2_score: -349082.7812\n",
      "Epoch 91/100\n",
      "\u001B[1m4/4\u001B[0m \u001B[32m━━━━━━━━━━━━━━━━━━━━\u001B[0m\u001B[37m\u001B[0m \u001B[1m0s\u001B[0m 4ms/step - loss: 2.1688e-05 - r2_score: -2564.5457 - val_loss: 0.0022 - val_r2_score: -342014.0938\n",
      "Epoch 92/100\n",
      "\u001B[1m4/4\u001B[0m \u001B[32m━━━━━━━━━━━━━━━━━━━━\u001B[0m\u001B[37m\u001B[0m \u001B[1m0s\u001B[0m 4ms/step - loss: 1.7752e-05 - r2_score: -2028.5951 - val_loss: 0.0022 - val_r2_score: -345963.8438\n",
      "Epoch 93/100\n",
      "\u001B[1m4/4\u001B[0m \u001B[32m━━━━━━━━━━━━━━━━━━━━\u001B[0m\u001B[37m\u001B[0m \u001B[1m0s\u001B[0m 5ms/step - loss: 1.4975e-05 - r2_score: -1890.6031 - val_loss: 0.0022 - val_r2_score: -345094.7812\n",
      "Epoch 94/100\n",
      "\u001B[1m4/4\u001B[0m \u001B[32m━━━━━━━━━━━━━━━━━━━━\u001B[0m\u001B[37m\u001B[0m \u001B[1m0s\u001B[0m 4ms/step - loss: 1.5369e-05 - r2_score: -1831.5763 - val_loss: 0.0022 - val_r2_score: -342402.2500\n",
      "Epoch 95/100\n",
      "\u001B[1m4/4\u001B[0m \u001B[32m━━━━━━━━━━━━━━━━━━━━\u001B[0m\u001B[37m\u001B[0m \u001B[1m0s\u001B[0m 4ms/step - loss: 1.7641e-05 - r2_score: -2137.0034 - val_loss: 0.0022 - val_r2_score: -345820.3125\n",
      "Epoch 96/100\n",
      "\u001B[1m4/4\u001B[0m \u001B[32m━━━━━━━━━━━━━━━━━━━━\u001B[0m\u001B[37m\u001B[0m \u001B[1m0s\u001B[0m 4ms/step - loss: 1.7068e-05 - r2_score: -2274.0112 - val_loss: 0.0022 - val_r2_score: -344402.8750\n",
      "Epoch 97/100\n",
      "\u001B[1m4/4\u001B[0m \u001B[32m━━━━━━━━━━━━━━━━━━━━\u001B[0m\u001B[37m\u001B[0m \u001B[1m0s\u001B[0m 4ms/step - loss: 1.6344e-05 - r2_score: -1946.4525 - val_loss: 0.0022 - val_r2_score: -343528.0000\n",
      "Epoch 98/100\n",
      "\u001B[1m4/4\u001B[0m \u001B[32m━━━━━━━━━━━━━━━━━━━━\u001B[0m\u001B[37m\u001B[0m \u001B[1m0s\u001B[0m 4ms/step - loss: 1.2107e-05 - r2_score: -1404.0815 - val_loss: 0.0022 - val_r2_score: -345818.1250\n",
      "Epoch 99/100\n",
      "\u001B[1m4/4\u001B[0m \u001B[32m━━━━━━━━━━━━━━━━━━━━\u001B[0m\u001B[37m\u001B[0m \u001B[1m0s\u001B[0m 4ms/step - loss: 1.0247e-05 - r2_score: -1259.1576 - val_loss: 0.0022 - val_r2_score: -344542.6875\n",
      "Epoch 100/100\n",
      "\u001B[1m4/4\u001B[0m \u001B[32m━━━━━━━━━━━━━━━━━━━━\u001B[0m\u001B[37m\u001B[0m \u001B[1m0s\u001B[0m 4ms/step - loss: 1.4188e-05 - r2_score: -1670.6992 - val_loss: 0.0022 - val_r2_score: -344505.9688\n",
      "\u001B[1m2/2\u001B[0m \u001B[32m━━━━━━━━━━━━━━━━━━━━\u001B[0m\u001B[37m\u001B[0m \u001B[1m0s\u001B[0m 2ms/step - loss: 0.0071 - r2_score: -756636.0000\n",
      "Model MSE: 0.006990665569901466, R2:-761054.0625\n",
      "\u001B[1m2/2\u001B[0m \u001B[32m━━━━━━━━━━━━━━━━━━━━\u001B[0m\u001B[37m\u001B[0m \u001B[1m0s\u001B[0m 13ms/step\n"
     ]
    }
   ],
   "source": [
    "import pandas as pd\n",
    "from sklearn.model_selection import train_test_split\n",
    "from sklearn.preprocessing import StandardScaler\n",
    "from tensorflow.keras.models import Sequential\n",
    "from tensorflow.keras.layers import Dense\n",
    "from tensorflow.keras.optimizers import Adam\n",
    "from sklearn.metrics import r2_score\n",
    "\n",
    "# Load the data\n",
    "data = pd.read_csv('FL_eTime.csv')\n",
    "\n",
    "# Prepare the data\n",
    "y = data['Med_mac'].values\n",
    "X = data.drop(['eTime_macos', 'Filename', 'Med_mac', 'Ave_mac', 'Std_mac'], axis=1)\n",
    "\n",
    "# Split the data\n",
    "X_train, X_test, y_train, y_test = train_test_split(X, y, test_size=0.2, random_state=42)\n",
    "\n",
    "# Scale the features\n",
    "scaler = StandardScaler()\n",
    "X_train_scaled = scaler.fit_transform(X_train)\n",
    "X_test_scaled = scaler.transform(X_test)\n",
    "\n",
    "# Create the model\n",
    "def create_model():\n",
    "    model = Sequential([\n",
    "        Dense(64, activation='relu'),\n",
    "        Dense(32, activation='relu'),\n",
    "        Dense(1)\n",
    "    ])\n",
    "    model.compile(optimizer=Adam(learning_rate=0.001), loss='mse', metrics = ['r2_score'])\n",
    "    return model\n",
    "\n",
    "# Train the model\n",
    "model = create_model()\n",
    "history = model.fit(X_train_scaled, y_train, epochs=100, batch_size=32, validation_split=0.2, verbose=1)\n",
    "\n",
    "# Evaluate the model\n",
    "mse, r2_score = model.evaluate(X_test_scaled, y_test)\n",
    "print(f\"Model MSE: {mse}, R2:{r2_score}\")\n",
    "\n",
    "# Make predictions\n",
    "predictions = model.predict(X_test_scaled)\n"
   ],
   "metadata": {
    "collapsed": false,
    "ExecuteTime": {
     "end_time": "2024-08-13T00:43:31.281074Z",
     "start_time": "2024-08-13T00:43:28.249401Z"
    }
   },
   "id": "32783a7e013345"
  },
  {
   "cell_type": "code",
   "execution_count": 4,
   "outputs": [
    {
     "name": "stdout",
     "output_type": "stream",
     "text": [
      "Mean Squared Error: 9.32109127510933e-09\n",
      "R-squared: -0.014779160386662715\n"
     ]
    }
   ],
   "source": [
    "from sklearn.metrics import mean_squared_error, r2_score\n",
    "from sklearn.ensemble import StackingRegressor\n",
    "from sklearn.linear_model import RidgeCV\n",
    "from sklearn.svm import SVR\n",
    "from xgboost import XGBRegressor\n",
    "from sklearn.ensemble import RandomForestRegressor\n",
    "\n",
    "# 定义基学习器\n",
    "base_learners = [\n",
    "    ('xgb', XGBRegressor(n_estimators=100, learning_rate=0.1, max_depth=5, random_state=42)),\n",
    "    ('rf', RandomForestRegressor(n_estimators=100, random_state=42)),\n",
    "    ('svr', SVR(kernel='rbf', C=1, gamma=0.1))\n",
    "]\n",
    "\n",
    "# 定义堆叠回归模型\n",
    "stacking_model = StackingRegressor(estimators=base_learners, final_estimator=RidgeCV())\n",
    "\n",
    "# 训练模型\n",
    "stacking_model.fit(X_train_scaled, y_train)\n",
    "\n",
    "# 预测和评估模型\n",
    "y_pred = stacking_model.predict(X_test_scaled)\n",
    "mse = mean_squared_error(y_test, y_pred)\n",
    "r2 = r2_score(y_test, y_pred)\n",
    "print(f'Mean Squared Error: {mse}')\n",
    "print(f'R-squared: {r2}')"
   ],
   "metadata": {
    "collapsed": false,
    "ExecuteTime": {
     "end_time": "2024-08-13T00:43:39.878436Z",
     "start_time": "2024-08-13T00:43:39.360652Z"
    }
   },
   "id": "8e7e673c085219f2"
  },
  {
   "cell_type": "markdown",
   "source": [
    "LR"
   ],
   "metadata": {
    "collapsed": false
   },
   "id": "18d1087e18929e56"
  },
  {
   "cell_type": "code",
   "execution_count": 28,
   "outputs": [
    {
     "name": "stdout",
     "output_type": "stream",
     "text": [
      "RMSE: 0.0001\n",
      "R-squared: 0.3083\n"
     ]
    },
    {
     "name": "stderr",
     "output_type": "stream",
     "text": [
      "/Users/vissan/anaconda3/envs/Cost/lib/python3.11/site-packages/sklearn/metrics/_regression.py:492: FutureWarning: 'squared' is deprecated in version 1.4 and will be removed in 1.6. To calculate the root mean squared error, use the function'root_mean_squared_error'.\n",
      "  warnings.warn(\n"
     ]
    }
   ],
   "source": [
    "import pandas as pd\n",
    "from sklearn.model_selection import train_test_split\n",
    "from sklearn.linear_model import LinearRegression\n",
    "from sklearn.metrics import mean_squared_error, r2_score\n",
    "\n",
    "# 加载 CSV 文件\n",
    "df = pd.read_csv('merged_results.csv')\n",
    "\n",
    "# 特征选择\n",
    "features = ['Ave_mac', 'eTime_macos', 'eTime_windows10', 'ReturnStmt', 'FieldDecl',\n",
    "       'Class Defs', 'StructDecl', 'Static_Cast<>', 'FloatDecl',\n",
    "       'MemberRefExpr', 'Max Depth', 'Ave_win', 'Med_win', 'BoolLiteral',\n",
    "       'letdata']\n",
    "X = df[features]\n",
    "y = df['Med_mac']\n",
    "\n",
    "# 数据划分\n",
    "X_train, X_test, y_train, y_test = train_test_split(X, y, test_size=0.2, random_state=42)\n",
    "\n",
    "# 模型训练\n",
    "model = LinearRegression()\n",
    "model.fit(X_train, y_train)\n",
    "\n",
    "# 模型预测\n",
    "y_pred = model.predict(X_test)\n",
    "\n",
    "# 模型评估\n",
    "rmse = mean_squared_error(y_test, y_pred, squared=False)\n",
    "r2 = r2_score(y_test, y_pred)\n",
    "\n",
    "print(f'RMSE: {rmse:.4f}')\n",
    "print(f'R-squared: {r2:.4f}')"
   ],
   "metadata": {
    "collapsed": false,
    "ExecuteTime": {
     "end_time": "2024-08-13T01:53:00.527589Z",
     "start_time": "2024-08-13T01:53:00.508295Z"
    }
   },
   "id": "d8747b4fd357efcc"
  },
  {
   "cell_type": "markdown",
   "source": [
    "RF"
   ],
   "metadata": {
    "collapsed": false
   },
   "id": "f44272ced3d0f27c"
  },
  {
   "cell_type": "code",
   "execution_count": 25,
   "outputs": [
    {
     "name": "stdout",
     "output_type": "stream",
     "text": [
      "RMSE: 0.0001\n",
      "R-squared: 0.4255\n"
     ]
    },
    {
     "name": "stderr",
     "output_type": "stream",
     "text": [
      "/Users/vissan/anaconda3/envs/Cost/lib/python3.11/site-packages/sklearn/metrics/_regression.py:492: FutureWarning: 'squared' is deprecated in version 1.4 and will be removed in 1.6. To calculate the root mean squared error, use the function'root_mean_squared_error'.\n",
      "  warnings.warn(\n"
     ]
    }
   ],
   "source": [
    "import pandas as pd\n",
    "from sklearn.model_selection import train_test_split\n",
    "from sklearn.ensemble import RandomForestRegressor\n",
    "from sklearn.metrics import mean_squared_error, r2_score\n",
    "\n",
    "# 加载 CSV 文件\n",
    "df = pd.read_csv('merged_results.csv')\n",
    "\n",
    "# 选择 top_features\n",
    "features = ['Ave_mac', 'eTime_macos', 'eTime_windows10', 'ReturnStmt', 'FieldDecl',\n",
    "       'Class Defs', 'StructDecl', 'Static_Cast<>', 'FloatDecl',\n",
    "       'MemberRefExpr', 'Max Depth', 'Ave_win', 'Med_win', 'BoolLiteral',\n",
    "       'letdata']\n",
    "X = df[features]\n",
    "y = df['Med_mac']\n",
    "\n",
    "# 数据划分\n",
    "X_train, X_test, y_train, y_test = train_test_split(X, y, test_size=0.2, random_state=42)\n",
    "\n",
    "# 模型训练\n",
    "model = RandomForestRegressor(n_estimators=100, random_state=42)\n",
    "model.fit(X_train, y_train)\n",
    "\n",
    "# 模型预测\n",
    "y_pred = model.predict(X_test)\n",
    "\n",
    "# 模型评估\n",
    "rmse = mean_squared_error(y_test, y_pred, squared=False)\n",
    "r2 = r2_score(y_test, y_pred)\n",
    "\n",
    "print(f'RMSE: {rmse:.4f}')\n",
    "print(f'R-squared: {r2:.4f}')"
   ],
   "metadata": {
    "collapsed": false,
    "ExecuteTime": {
     "end_time": "2024-08-13T01:50:14.033030Z",
     "start_time": "2024-08-13T01:50:13.944506Z"
    }
   },
   "id": "7df6d8325d5d7c42"
  },
  {
   "cell_type": "markdown",
   "source": [
    "GBR"
   ],
   "metadata": {
    "collapsed": false
   },
   "id": "f4b81274c0022dc7"
  },
  {
   "cell_type": "code",
   "execution_count": 26,
   "outputs": [
    {
     "name": "stdout",
     "output_type": "stream",
     "text": [
      "RMSE: 0.0001\n",
      "R-squared: 0.3503\n"
     ]
    },
    {
     "name": "stderr",
     "output_type": "stream",
     "text": [
      "/Users/vissan/anaconda3/envs/Cost/lib/python3.11/site-packages/sklearn/metrics/_regression.py:492: FutureWarning: 'squared' is deprecated in version 1.4 and will be removed in 1.6. To calculate the root mean squared error, use the function'root_mean_squared_error'.\n",
      "  warnings.warn(\n"
     ]
    }
   ],
   "source": [
    "import pandas as pd\n",
    "from sklearn.model_selection import train_test_split\n",
    "from sklearn.ensemble import GradientBoostingRegressor\n",
    "from sklearn.metrics import mean_squared_error, r2_score\n",
    "\n",
    "# 加载 CSV 文件\n",
    "df = pd.read_csv('merged_results.csv')\n",
    "\n",
    "# 选择 top_features\n",
    "features = ['Ave_mac', 'eTime_macos', 'eTime_windows10', 'ReturnStmt', 'FieldDecl',\n",
    "       'Class Defs', 'StructDecl', 'Static_Cast<>', 'FloatDecl',\n",
    "       'MemberRefExpr', 'Max Depth', 'Ave_win', 'Med_win', 'BoolLiteral',\n",
    "       'letdata']\n",
    "X = df[features]\n",
    "y = df['Med_mac']\n",
    "\n",
    "# 数据划分\n",
    "X_train, X_test, y_train, y_test = train_test_split(X, y, test_size=0.2, random_state=42)\n",
    "\n",
    "# 模型训练\n",
    "model = GradientBoostingRegressor(random_state=42)\n",
    "model.fit(X_train, y_train)\n",
    "\n",
    "# 模型预测\n",
    "y_pred = model.predict(X_test)\n",
    "\n",
    "# 模型评估\n",
    "rmse = mean_squared_error(y_test, y_pred, squared=False)\n",
    "r2 = r2_score(y_test, y_pred)\n",
    "\n",
    "print(f'RMSE: {rmse:.4f}')\n",
    "print(f'R-squared: {r2:.4f}')"
   ],
   "metadata": {
    "collapsed": false,
    "ExecuteTime": {
     "end_time": "2024-08-13T01:50:28.018268Z",
     "start_time": "2024-08-13T01:50:27.970703Z"
    }
   },
   "id": "3c6145d9fd1e15b"
  },
  {
   "cell_type": "markdown",
   "source": [
    "NN"
   ],
   "metadata": {
    "collapsed": false
   },
   "id": "ddedf979be5c4399"
  },
  {
   "cell_type": "code",
   "execution_count": 27,
   "outputs": [
    {
     "name": "stderr",
     "output_type": "stream",
     "text": [
      "/Users/vissan/anaconda3/envs/Cost/lib/python3.11/site-packages/keras/src/layers/core/dense.py:87: UserWarning: Do not pass an `input_shape`/`input_dim` argument to a layer. When using Sequential models, prefer using an `Input(shape)` object as the first layer in the model instead.\n",
      "  super().__init__(activity_regularizer=activity_regularizer, **kwargs)\n"
     ]
    },
    {
     "name": "stdout",
     "output_type": "stream",
     "text": [
      "\u001B[1m2/2\u001B[0m \u001B[32m━━━━━━━━━━━━━━━━━━━━\u001B[0m\u001B[37m\u001B[0m \u001B[1m0s\u001B[0m 13ms/step\n",
      "RMSE: 0.0695\n",
      "R-squared: -526149.1716\n"
     ]
    },
    {
     "name": "stderr",
     "output_type": "stream",
     "text": [
      "/Users/vissan/anaconda3/envs/Cost/lib/python3.11/site-packages/sklearn/metrics/_regression.py:492: FutureWarning: 'squared' is deprecated in version 1.4 and will be removed in 1.6. To calculate the root mean squared error, use the function'root_mean_squared_error'.\n",
      "  warnings.warn(\n"
     ]
    }
   ],
   "source": [
    "import pandas as pd\n",
    "from sklearn.model_selection import train_test_split\n",
    "from tensorflow.keras.models import Sequential\n",
    "from tensorflow.keras.layers import Dense\n",
    "from sklearn.preprocessing import StandardScaler\n",
    "from sklearn.metrics import root_mean_squared_error, r2_score\n",
    "\n",
    "# 加载 CSV 文件\n",
    "df = pd.read_csv('merged_results.csv')\n",
    "\n",
    "# 选择 top_features\n",
    "features = ['Ave_mac', 'eTime_macos', 'eTime_windows10', 'ReturnStmt', 'FieldDecl',\n",
    "       'Class Defs', 'StructDecl', 'Static_Cast<>', 'FloatDecl',\n",
    "       'MemberRefExpr', 'Max Depth', 'Ave_win', 'Med_win', 'BoolLiteral',\n",
    "       'letdata']\n",
    "X = df[features]\n",
    "y = df['Med_mac']\n",
    "\n",
    "# 数据标准化\n",
    "scaler = StandardScaler()\n",
    "X = scaler.fit_transform(X)\n",
    "\n",
    "# 数据划分\n",
    "X_train, X_test, y_train, y_test = train_test_split(X, y, test_size=0.2, random_state=42)\n",
    "\n",
    "# 模型构建\n",
    "model = Sequential()\n",
    "model.add(Dense(64, activation='relu', input_shape=(X_train.shape[1],)))\n",
    "model.add(Dense(32, activation='relu'))\n",
    "model.add(Dense(1))\n",
    "\n",
    "# 模型编译\n",
    "model.compile(optimizer='adam', loss='mse')\n",
    "\n",
    "# 模型训练\n",
    "model.fit(X_train, y_train, epochs=100, verbose=0)\n",
    "\n",
    "# 模型预测\n",
    "y_pred = model.predict(X_test)\n",
    "\n",
    "# 模型评估\n",
    "rmse = mean_squared_error(y_test, y_pred, squared=False)\n",
    "r2 = r2_score(y_test, y_pred)\n",
    "\n",
    "print(f'RMSE: {rmse:.4f}')\n",
    "print(f'R-squared: {r2:.4f}')"
   ],
   "metadata": {
    "collapsed": false,
    "ExecuteTime": {
     "end_time": "2024-08-13T01:50:39.882625Z",
     "start_time": "2024-08-13T01:50:38.298526Z"
    }
   },
   "id": "131b6ffdadf7447d"
  },
  {
   "cell_type": "code",
   "execution_count": null,
   "outputs": [],
   "source": [],
   "metadata": {
    "collapsed": false
   },
   "id": "792c53d7069cd84e"
  }
 ],
 "metadata": {
  "kernelspec": {
   "display_name": "Python 3",
   "language": "python",
   "name": "python3"
  },
  "language_info": {
   "codemirror_mode": {
    "name": "ipython",
    "version": 2
   },
   "file_extension": ".py",
   "mimetype": "text/x-python",
   "name": "python",
   "nbconvert_exporter": "python",
   "pygments_lexer": "ipython2",
   "version": "2.7.6"
  }
 },
 "nbformat": 4,
 "nbformat_minor": 5
}
