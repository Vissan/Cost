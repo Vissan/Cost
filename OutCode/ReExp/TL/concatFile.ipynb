{
 "cells": [
  {
   "cell_type": "code",
   "execution_count": 1,
   "id": "initial_id",
   "metadata": {
    "collapsed": true,
    "ExecuteTime": {
     "end_time": "2024-08-05T09:47:53.550556400Z",
     "start_time": "2024-08-05T09:47:52.948975500Z"
    }
   },
   "outputs": [
    {
     "name": "stdout",
     "output_type": "stream",
     "text": [
      "CSV文件已合并并保存为 merged_results.csv\n"
     ]
    }
   ],
   "source": [
    "import pandas as pd  \n",
    "  \n",
    "# 读取两个CSV文件  \n",
    "execution_results = pd.read_csv('execution_results.csv')  \n",
    "output = pd.read_csv('FL_eTime.csv')  \n",
    "  \n",
    "# 确保Filename列在两个DataFrame中都是正确的数据类型（通常是字符串）  \n",
    "execution_results['Filename'] = execution_results['Filename'].astype(str)  \n",
    "output['Filename'] = output['Filename'].astype(str)  \n",
    "  \n",
    "# 使用merge函数根据Filename列合并两个DataFrame  \n",
    "# 这里我们使用'outer'作为合并方式，以保留两个文件中的所有行  \n",
    "# 如果Filename在两个文件中都存在，则会自动匹配并合并对应的行  \n",
    "# 如果一个Filename只存在于一个文件中，则另一个文件的列将以NaN填充  \n",
    "merged_df = pd.merge(execution_results, output, on='Filename', how='outer')  \n",
    "  \n",
    "# 删除所有全为NaN的列  \n",
    "# 首先，我们需要找出哪些列是全部NaN的  \n",
    "all_nan_cols = merged_df.columns[merged_df.isnull().all()].tolist()  \n",
    "# 然后，从DataFrame中删除这些列  \n",
    "merged_df.drop(columns=all_nan_cols, inplace=True)  \n",
    "  \n",
    "# 保存到新的CSV文件  \n",
    "merged_df.to_csv('merged_results.csv', index=False)  \n",
    "  \n",
    "print('CSV文件已合并并保存为 merged_results.csv')"
   ]
  },
  {
   "cell_type": "code",
   "execution_count": null,
   "outputs": [],
   "source": [],
   "metadata": {
    "collapsed": false
   },
   "id": "d6da9030fe568719"
  }
 ],
 "metadata": {
  "kernelspec": {
   "display_name": "Python 3",
   "language": "python",
   "name": "python3"
  },
  "language_info": {
   "codemirror_mode": {
    "name": "ipython",
    "version": 2
   },
   "file_extension": ".py",
   "mimetype": "text/x-python",
   "name": "python",
   "nbconvert_exporter": "python",
   "pygments_lexer": "ipython2",
   "version": "2.7.6"
  }
 },
 "nbformat": 4,
 "nbformat_minor": 5
}
